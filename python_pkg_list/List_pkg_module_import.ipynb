{
 "cells": [
  {
   "cell_type": "code",
   "execution_count": 1,
   "id": "5937599a",
   "metadata": {},
   "outputs": [
    {
     "data": {
      "text/plain": [
       "'C:\\\\Users\\\\amit.singh\\\\MyFirstProject'"
      ]
     },
     "execution_count": 1,
     "metadata": {},
     "output_type": "execute_result"
    }
   ],
   "source": [
    "pwd()"
   ]
  },
  {
   "cell_type": "code",
   "execution_count": null,
   "id": "728c395a",
   "metadata": {},
   "outputs": [],
   "source": [
    "from pkg_list import list_function"
   ]
  },
  {
   "cell_type": "code",
   "execution_count": 3,
   "id": "1bb162fe",
   "metadata": {},
   "outputs": [],
   "source": [
    "lst=list_function.list_module([1,2,3,4,5,7,9,10,[1,2,3],1,2])"
   ]
  },
  {
   "cell_type": "code",
   "execution_count": 4,
   "id": "5235c5fa",
   "metadata": {},
   "outputs": [],
   "source": [
    "a= lst.list_len()"
   ]
  },
  {
   "cell_type": "code",
   "execution_count": 5,
   "id": "607689e0",
   "metadata": {},
   "outputs": [
    {
     "data": {
      "text/plain": [
       "11"
      ]
     },
     "execution_count": 5,
     "metadata": {},
     "output_type": "execute_result"
    }
   ],
   "source": [
    "a"
   ]
  },
  {
   "cell_type": "code",
   "execution_count": 6,
   "id": "91a5a358",
   "metadata": {},
   "outputs": [
    {
     "name": "stdout",
     "output_type": "stream",
     "text": [
      "Enter a list value: 30\n"
     ]
    }
   ],
   "source": [
    "b= lst.list_append()"
   ]
  },
  {
   "cell_type": "code",
   "execution_count": 7,
   "id": "fd6093b7",
   "metadata": {},
   "outputs": [
    {
     "data": {
      "text/plain": [
       "[1, 2, 3, 4, 5, 7, 9, 10, [1, 2, 3], 1, 2, 30]"
      ]
     },
     "execution_count": 7,
     "metadata": {},
     "output_type": "execute_result"
    }
   ],
   "source": [
    "b"
   ]
  },
  {
   "cell_type": "code",
   "execution_count": 8,
   "id": "c1b03783",
   "metadata": {},
   "outputs": [],
   "source": [
    "c=lst.list_pop()"
   ]
  },
  {
   "cell_type": "code",
   "execution_count": 9,
   "id": "72932b06",
   "metadata": {},
   "outputs": [
    {
     "data": {
      "text/plain": [
       "30"
      ]
     },
     "execution_count": 9,
     "metadata": {},
     "output_type": "execute_result"
    }
   ],
   "source": [
    "c"
   ]
  },
  {
   "cell_type": "code",
   "execution_count": 10,
   "id": "ee443edb",
   "metadata": {},
   "outputs": [
    {
     "name": "stdout",
     "output_type": "stream",
     "text": [
      "Please enter a position to insert value in list : 1\n",
      "Please enter a value or list to insert in list : 40\n"
     ]
    }
   ],
   "source": [
    "d=lst.list_insert()"
   ]
  },
  {
   "cell_type": "code",
   "execution_count": 11,
   "id": "e36f9305",
   "metadata": {},
   "outputs": [
    {
     "data": {
      "text/plain": [
       "[1, 2, 40, 3, 4, 5, 7, 9, 10, [1, 2, 3], 1, 2]"
      ]
     },
     "execution_count": 11,
     "metadata": {},
     "output_type": "execute_result"
    }
   ],
   "source": [
    "d"
   ]
  },
  {
   "cell_type": "code",
   "execution_count": 12,
   "id": "71db5bd3",
   "metadata": {},
   "outputs": [],
   "source": [
    "e=lst.list_reverse()"
   ]
  },
  {
   "cell_type": "code",
   "execution_count": 13,
   "id": "3d4a9c8c",
   "metadata": {},
   "outputs": [
    {
     "data": {
      "text/plain": [
       "[2, 1, [1, 2, 3], 10, 9, 7, 5, 4, 3, 40, 2, 1]"
      ]
     },
     "execution_count": 13,
     "metadata": {},
     "output_type": "execute_result"
    }
   ],
   "source": [
    "e"
   ]
  },
  {
   "cell_type": "code",
   "execution_count": 14,
   "id": "a59788c7",
   "metadata": {},
   "outputs": [
    {
     "name": "stdout",
     "output_type": "stream",
     "text": [
      "Enter an item to count no. of occurrence in the given list : 1\n"
     ]
    }
   ],
   "source": [
    "f=lst.list_count()"
   ]
  },
  {
   "cell_type": "code",
   "execution_count": 15,
   "id": "5cc3469a",
   "metadata": {},
   "outputs": [
    {
     "data": {
      "text/plain": [
       "2"
      ]
     },
     "execution_count": 15,
     "metadata": {},
     "output_type": "execute_result"
    }
   ],
   "source": [
    "f"
   ]
  },
  {
   "cell_type": "code",
   "execution_count": 16,
   "id": "6f809e10",
   "metadata": {},
   "outputs": [
    {
     "name": "stdout",
     "output_type": "stream",
     "text": [
      "Enter a list value : [2,3,4]\n"
     ]
    }
   ],
   "source": [
    "g=lst.list_extend()"
   ]
  },
  {
   "cell_type": "code",
   "execution_count": 17,
   "id": "acd8f0e9",
   "metadata": {},
   "outputs": [
    {
     "data": {
      "text/plain": [
       "[1, 2, 40, 3, 4, 5, 7, 9, 10, [1, 2, 3], 1, 2, 2, 3, 4]"
      ]
     },
     "execution_count": 17,
     "metadata": {},
     "output_type": "execute_result"
    }
   ],
   "source": [
    "g"
   ]
  },
  {
   "cell_type": "code",
   "execution_count": null,
   "id": "da0805eb",
   "metadata": {},
   "outputs": [],
   "source": []
  }
 ],
 "metadata": {
  "kernelspec": {
   "display_name": "Python 3",
   "language": "python",
   "name": "python3"
  },
  "language_info": {
   "codemirror_mode": {
    "name": "ipython",
    "version": 3
   },
   "file_extension": ".py",
   "mimetype": "text/x-python",
   "name": "python",
   "nbconvert_exporter": "python",
   "pygments_lexer": "ipython3",
   "version": "3.8.8"
  }
 },
 "nbformat": 4,
 "nbformat_minor": 5
}
