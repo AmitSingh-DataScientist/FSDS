{
 "cells": [
  {
   "cell_type": "code",
   "execution_count": 1,
   "id": "0d1422b6",
   "metadata": {},
   "outputs": [
    {
     "data": {
      "text/plain": [
       "'C:\\\\Users\\\\amit.singh\\\\MyFirstProject'"
      ]
     },
     "execution_count": 1,
     "metadata": {},
     "output_type": "execute_result"
    }
   ],
   "source": [
    "pwd()"
   ]
  },
  {
   "cell_type": "code",
   "execution_count": 2,
   "id": "5d0786a5",
   "metadata": {},
   "outputs": [],
   "source": [
    "from pkg_tuple import tuple_function"
   ]
  },
  {
   "cell_type": "code",
   "execution_count": 3,
   "id": "9e7270c1",
   "metadata": {},
   "outputs": [],
   "source": [
    "tup = tuple_function.tuple_module((1,2,3,5,7,8,3,4,3,6,(1,2,3,4,5)))"
   ]
  },
  {
   "cell_type": "code",
   "execution_count": 4,
   "id": "9dd3615d",
   "metadata": {},
   "outputs": [
    {
     "data": {
      "text/plain": [
       "(1, 2, 3, 5, 7, 8, 3, 4, 3, 6, (1, 2, 3, 4, 5))"
      ]
     },
     "execution_count": 4,
     "metadata": {},
     "output_type": "execute_result"
    }
   ],
   "source": [
    "tup.t"
   ]
  },
  {
   "cell_type": "code",
   "execution_count": 5,
   "id": "415ce0b5",
   "metadata": {},
   "outputs": [
    {
     "name": "stdout",
     "output_type": "stream",
     "text": [
      "Enter an item to count no. of occurrence in the given tuple : 3\n"
     ]
    },
    {
     "data": {
      "text/plain": [
       "3"
      ]
     },
     "execution_count": 5,
     "metadata": {},
     "output_type": "execute_result"
    }
   ],
   "source": [
    "tup.tuple_count()"
   ]
  },
  {
   "cell_type": "code",
   "execution_count": 6,
   "id": "1d4ddf55",
   "metadata": {},
   "outputs": [
    {
     "name": "stdout",
     "output_type": "stream",
     "text": [
      "Enter an element position to see the value in the given tuple : 3\n"
     ]
    }
   ],
   "source": [
    "a = tup.tuple_index()"
   ]
  },
  {
   "cell_type": "code",
   "execution_count": 7,
   "id": "1b8551ce",
   "metadata": {},
   "outputs": [
    {
     "data": {
      "text/plain": [
       "2"
      ]
     },
     "execution_count": 7,
     "metadata": {},
     "output_type": "execute_result"
    }
   ],
   "source": [
    "a"
   ]
  },
  {
   "cell_type": "code",
   "execution_count": null,
   "id": "339512c5",
   "metadata": {},
   "outputs": [],
   "source": []
  }
 ],
 "metadata": {
  "kernelspec": {
   "display_name": "Python 3",
   "language": "python",
   "name": "python3"
  },
  "language_info": {
   "codemirror_mode": {
    "name": "ipython",
    "version": 3
   },
   "file_extension": ".py",
   "mimetype": "text/x-python",
   "name": "python",
   "nbconvert_exporter": "python",
   "pygments_lexer": "ipython3",
   "version": "3.8.8"
  }
 },
 "nbformat": 4,
 "nbformat_minor": 5
}
