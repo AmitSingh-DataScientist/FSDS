{
 "cells": [
  {
   "cell_type": "markdown",
   "id": "9b6bf5cb",
   "metadata": {},
   "source": [
    "#### Python Basic Assignment 14"
   ]
  },
  {
   "cell_type": "code",
   "execution_count": null,
   "id": "e58c0964",
   "metadata": {},
   "outputs": [],
   "source": [
    "#Q1. What does RGBA stand for?"
   ]
  },
  {
   "cell_type": "code",
   "execution_count": null,
   "id": "36c4f65d",
   "metadata": {},
   "outputs": [],
   "source": [
    "#Answer: RGBA stand for RGBA(Red-Green-Blue-Alpha), The format of the RGBA Value."
   ]
  },
  {
   "cell_type": "code",
   "execution_count": 1,
   "id": "64452c4c",
   "metadata": {},
   "outputs": [],
   "source": [
    "#Q2. From the Pillow module, how do you get the RGBA value of any images?"
   ]
  },
  {
   "cell_type": "code",
   "execution_count": null,
   "id": "eb6c1bef",
   "metadata": {},
   "outputs": [],
   "source": [
    "'''\n",
    "#ANswer: We can use A function call to ImageColor.getcolor('CornflowerBlue', 'RGBA') and it will \n",
    "return (100, 149, 237, 255), the RGBA value for that color\n",
    "'''"
   ]
  },
  {
   "cell_type": "code",
   "execution_count": 2,
   "id": "cdaa0493",
   "metadata": {},
   "outputs": [],
   "source": [
    "#Q3. What is a box tuple, and how does it work?"
   ]
  },
  {
   "cell_type": "code",
   "execution_count": 3,
   "id": "9097dc67",
   "metadata": {},
   "outputs": [
    {
     "data": {
      "text/plain": [
       "'\\n#Answer: A box tuple is a tuple value of four integers: the left-edge x-coordinate, the top-edge y-coordinate, the width, \\nand the height, respectively.\\n'"
      ]
     },
     "execution_count": 3,
     "metadata": {},
     "output_type": "execute_result"
    }
   ],
   "source": [
    "'''\n",
    "#Answer: A box tuple is a tuple value of four integers: the left-edge x-coordinate, the top-edge y-coordinate, the width, \n",
    "and the height, respectively.\n",
    "'''"
   ]
  },
  {
   "cell_type": "code",
   "execution_count": null,
   "id": "f33a8978",
   "metadata": {},
   "outputs": [],
   "source": [
    "#Q4. Use your image and load in notebook then, How can you find out the width and height of an Image object?"
   ]
  },
  {
   "cell_type": "code",
   "execution_count": 4,
   "id": "74211929",
   "metadata": {},
   "outputs": [],
   "source": [
    "#Answer: We can use imageObj.size is a tuple of two integers, the width and the height"
   ]
  },
  {
   "cell_type": "code",
   "execution_count": 5,
   "id": "6a2aa177",
   "metadata": {},
   "outputs": [],
   "source": [
    "#Q5. What method would you call to get Image object for a 100×100 image, excluding the lower-left quarter of it?"
   ]
  },
  {
   "cell_type": "code",
   "execution_count": 6,
   "id": "ac2af10f",
   "metadata": {},
   "outputs": [
    {
     "data": {
      "text/plain": [
       "'\\n#Answer: imageObj.crop((0, 50, 50, 50)). Notice that you are passing a box tuple to crop(), not four separate \\ninteger arguments\\n'"
      ]
     },
     "execution_count": 6,
     "metadata": {},
     "output_type": "execute_result"
    }
   ],
   "source": [
    "'''\n",
    "#Answer: imageObj.crop((0, 50, 50, 50)). Notice that you are passing a box tuple to crop(), not four separate \n",
    "integer arguments\n",
    "'''"
   ]
  },
  {
   "cell_type": "code",
   "execution_count": 7,
   "id": "45f05fef",
   "metadata": {},
   "outputs": [],
   "source": [
    "#Q6. After making changes to an Image object, how could you save it as an image file?"
   ]
  },
  {
   "cell_type": "code",
   "execution_count": 8,
   "id": "c2e196c0",
   "metadata": {},
   "outputs": [],
   "source": [
    "#Answer: Call the imageObj.save('new_filename.png') method of the Image object"
   ]
  },
  {
   "cell_type": "code",
   "execution_count": 9,
   "id": "732e8494",
   "metadata": {},
   "outputs": [],
   "source": [
    "#Q7. What module contains Pillow’s shape-drawing code?"
   ]
  },
  {
   "cell_type": "code",
   "execution_count": 10,
   "id": "9d2eee83",
   "metadata": {},
   "outputs": [],
   "source": [
    "#Answer: The ImageDraw module contains code to draw on images"
   ]
  },
  {
   "cell_type": "code",
   "execution_count": 11,
   "id": "0395a313",
   "metadata": {},
   "outputs": [],
   "source": [
    "#Q8. Image objects do not have drawing methods. What kind of object does? How do you get this kind of object?"
   ]
  },
  {
   "cell_type": "code",
   "execution_count": 12,
   "id": "777fb39d",
   "metadata": {},
   "outputs": [
    {
     "data": {
      "text/plain": [
       "'\\n#Answer: ImageDraw objects have shape-drawing methods such as point(), line(), or rectangle(). They are returned by \\npassing the Image object to the ImageDraw.Draw() function\\n'"
      ]
     },
     "execution_count": 12,
     "metadata": {},
     "output_type": "execute_result"
    }
   ],
   "source": [
    "'''\n",
    "#Answer: ImageDraw objects have shape-drawing methods such as point(), line(), or rectangle(). They are returned by \n",
    "passing the Image object to the ImageDraw.Draw() function\n",
    "'''"
   ]
  },
  {
   "cell_type": "code",
   "execution_count": null,
   "id": "4e0a3a15",
   "metadata": {},
   "outputs": [],
   "source": []
  },
  {
   "cell_type": "code",
   "execution_count": null,
   "id": "1a7d071c",
   "metadata": {},
   "outputs": [],
   "source": [
    "\n"
   ]
  }
 ],
 "metadata": {
  "kernelspec": {
   "display_name": "Python 3 (ipykernel)",
   "language": "python",
   "name": "python3"
  },
  "language_info": {
   "codemirror_mode": {
    "name": "ipython",
    "version": 3
   },
   "file_extension": ".py",
   "mimetype": "text/x-python",
   "name": "python",
   "nbconvert_exporter": "python",
   "pygments_lexer": "ipython3",
   "version": "3.9.7"
  }
 },
 "nbformat": 4,
 "nbformat_minor": 5
}
