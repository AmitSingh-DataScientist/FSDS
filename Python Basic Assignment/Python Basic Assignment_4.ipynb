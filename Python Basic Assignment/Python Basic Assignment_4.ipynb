{
 "cells": [
  {
   "cell_type": "markdown",
   "id": "3eb1a6df",
   "metadata": {},
   "source": [
    "### Python Basic Assignment 4"
   ]
  },
  {
   "cell_type": "code",
   "execution_count": null,
   "id": "af599f04",
   "metadata": {},
   "outputs": [],
   "source": [
    "#Q1. What exactly is []?\n",
    "#Answer: It denotes list in python, which mean a mutable collection of values"
   ]
  },
  {
   "cell_type": "code",
   "execution_count": 2,
   "id": "e910066e",
   "metadata": {},
   "outputs": [],
   "source": [
    "'''\n",
    "Q2. In a list of values stored in a variable called spam, how would you assign the value 'hello' as the third value? \n",
    "(Assume [2, 4, 6, 8, 10] are in spam.)\n",
    "''"
   ]
  },
  {
   "cell_type": "code",
   "execution_count": 6,
   "id": "d3a43932",
   "metadata": {},
   "outputs": [],
   "source": [
    "#Answer:\n",
    "spam=[2,4,6,8,10]\n",
    "spam.insert(2,\"hello\")"
   ]
  },
  {
   "cell_type": "code",
   "execution_count": 7,
   "id": "a7fbbb8d",
   "metadata": {},
   "outputs": [
    {
     "data": {
      "text/plain": [
       "[2, 4, 'hello', 6, 8, 10]"
      ]
     },
     "execution_count": 7,
     "metadata": {},
     "output_type": "execute_result"
    }
   ],
   "source": [
    "spam"
   ]
  },
  {
   "cell_type": "markdown",
   "id": "955ffea5",
   "metadata": {},
   "source": [
    "- Let's pretend the spam includes the list ['a', 'b', 'c', 'd'] for the next three queries."
   ]
  },
  {
   "cell_type": "code",
   "execution_count": 9,
   "id": "5770a764",
   "metadata": {},
   "outputs": [],
   "source": [
    "#Q3. What is the value of spam[int(int('3' * 2) / 11)]?\n",
    "spam=['a','b','c','d']"
   ]
  },
  {
   "cell_type": "code",
   "execution_count": 10,
   "id": "7a96e892",
   "metadata": {},
   "outputs": [
    {
     "data": {
      "text/plain": [
       "'d'"
      ]
     },
     "execution_count": 10,
     "metadata": {},
     "output_type": "execute_result"
    }
   ],
   "source": [
    "#Answer:\n",
    "spam[int(int('3' * 2) / 11)]"
   ]
  },
  {
   "cell_type": "code",
   "execution_count": 15,
   "id": "06bb6deb",
   "metadata": {},
   "outputs": [
    {
     "data": {
      "text/plain": [
       "'d'"
      ]
     },
     "execution_count": 15,
     "metadata": {},
     "output_type": "execute_result"
    }
   ],
   "source": [
    "#Q4. What is the value of spam[-1]?\n",
    "#Answer:\n",
    "spam[-1]"
   ]
  },
  {
   "cell_type": "code",
   "execution_count": 16,
   "id": "9ac6bb7b",
   "metadata": {},
   "outputs": [
    {
     "data": {
      "text/plain": [
       "['a', 'b']"
      ]
     },
     "execution_count": 16,
     "metadata": {},
     "output_type": "execute_result"
    }
   ],
   "source": [
    "#Q5. What is the value of spam[:2]?\n",
    "#Answer:\n",
    "spam[:2]"
   ]
  },
  {
   "cell_type": "markdown",
   "id": "b166d60c",
   "metadata": {},
   "source": [
    "- Let's pretend bacon has the list [3.14, 'cat,' 11, 'cat,' True] for the next three questions."
   ]
  },
  {
   "cell_type": "code",
   "execution_count": 18,
   "id": "df1c315f",
   "metadata": {},
   "outputs": [],
   "source": [
    "#Q6. What is the value of bacon.index('cat')?\n",
    "bacon=[3.14, 'cat', 11, 'cat', True]"
   ]
  },
  {
   "cell_type": "code",
   "execution_count": 19,
   "id": "dde8469b",
   "metadata": {},
   "outputs": [
    {
     "data": {
      "text/plain": [
       "1"
      ]
     },
     "execution_count": 19,
     "metadata": {},
     "output_type": "execute_result"
    }
   ],
   "source": [
    "#Answer:\n",
    "bacon.index('cat')"
   ]
  },
  {
   "cell_type": "code",
   "execution_count": 20,
   "id": "dbca4b3e",
   "metadata": {},
   "outputs": [],
   "source": [
    "#Q7. How does bacon.append(99) change the look of the list value in bacon?\n",
    "#Answer:\n",
    "bacon.append(99)"
   ]
  },
  {
   "cell_type": "code",
   "execution_count": 21,
   "id": "ca2ec8a1",
   "metadata": {},
   "outputs": [
    {
     "data": {
      "text/plain": [
       "[3.14, 'cat', 11, 'cat', True, 99]"
      ]
     },
     "execution_count": 21,
     "metadata": {},
     "output_type": "execute_result"
    }
   ],
   "source": [
    "bacon"
   ]
  },
  {
   "cell_type": "code",
   "execution_count": 22,
   "id": "80dd88b0",
   "metadata": {},
   "outputs": [],
   "source": [
    "#Q8. How does bacon.remove('cat') change the look of the list in bacon?\n",
    "#Answer:\n",
    "bacon.remove('cat')"
   ]
  },
  {
   "cell_type": "code",
   "execution_count": 23,
   "id": "8aa35304",
   "metadata": {},
   "outputs": [
    {
     "data": {
      "text/plain": [
       "[3.14, 11, 'cat', True, 99]"
      ]
     },
     "execution_count": 23,
     "metadata": {},
     "output_type": "execute_result"
    }
   ],
   "source": [
    "bacon"
   ]
  },
  {
   "cell_type": "code",
   "execution_count": 24,
   "id": "9c52f570",
   "metadata": {},
   "outputs": [],
   "source": [
    "#Q9. What are the list concatenation and list replication operators?\n",
    "#Answer: The list concatenation operator is \"+\" whereas list replication operator is \"*\"\n"
   ]
  },
  {
   "cell_type": "code",
   "execution_count": 26,
   "id": "f4b1f626",
   "metadata": {},
   "outputs": [],
   "source": [
    "a=spam+[1,2,\"amit\"] #List Concatenation "
   ]
  },
  {
   "cell_type": "code",
   "execution_count": 27,
   "id": "162cc7f5",
   "metadata": {},
   "outputs": [
    {
     "data": {
      "text/plain": [
       "['a', 'b', 'c', 'd', 1, 2, 'amit']"
      ]
     },
     "execution_count": 27,
     "metadata": {},
     "output_type": "execute_result"
    }
   ],
   "source": [
    "a"
   ]
  },
  {
   "cell_type": "code",
   "execution_count": 28,
   "id": "27b6603c",
   "metadata": {},
   "outputs": [],
   "source": [
    "a=a*2 #List Replication"
   ]
  },
  {
   "cell_type": "code",
   "execution_count": 29,
   "id": "8d1fc4d2",
   "metadata": {},
   "outputs": [
    {
     "data": {
      "text/plain": [
       "['a', 'b', 'c', 'd', 1, 2, 'amit', 'a', 'b', 'c', 'd', 1, 2, 'amit']"
      ]
     },
     "execution_count": 29,
     "metadata": {},
     "output_type": "execute_result"
    }
   ],
   "source": [
    "a"
   ]
  },
  {
   "cell_type": "code",
   "execution_count": null,
   "id": "1f92a70b",
   "metadata": {},
   "outputs": [],
   "source": [
    "#Q10. What is difference between the list methods append() and insert()?\n",
    "#Answer: append() add its argument as a single elemnt to the end of a list whereas\n",
    "# insert () add element infront of specified element"
   ]
  },
  {
   "cell_type": "code",
   "execution_count": 59,
   "id": "f51dcee7",
   "metadata": {},
   "outputs": [],
   "source": [
    "spam.append(\"amit\") "
   ]
  },
  {
   "cell_type": "code",
   "execution_count": 60,
   "id": "5a28b716",
   "metadata": {},
   "outputs": [
    {
     "data": {
      "text/plain": [
       "['b', 'c', 'amit', 'amit']"
      ]
     },
     "execution_count": 60,
     "metadata": {},
     "output_type": "execute_result"
    }
   ],
   "source": [
    "spam"
   ]
  },
  {
   "cell_type": "code",
   "execution_count": 61,
   "id": "c425ff4d",
   "metadata": {},
   "outputs": [],
   "source": [
    "spam.insert(3,\"amit\")"
   ]
  },
  {
   "cell_type": "code",
   "execution_count": 62,
   "id": "039e15f9",
   "metadata": {},
   "outputs": [
    {
     "data": {
      "text/plain": [
       "['b', 'c', 'amit', 'amit', 'amit']"
      ]
     },
     "execution_count": 62,
     "metadata": {},
     "output_type": "execute_result"
    }
   ],
   "source": [
    "spam"
   ]
  },
  {
   "cell_type": "code",
   "execution_count": 47,
   "id": "c5525920",
   "metadata": {},
   "outputs": [],
   "source": [
    "#Q11. What are the two methods for removing items from a list?\n",
    "#Answer: To remove items from list we have two mentods pop() and remove()"
   ]
  },
  {
   "cell_type": "code",
   "execution_count": 63,
   "id": "5f346fce",
   "metadata": {},
   "outputs": [
    {
     "data": {
      "text/plain": [
       "'amit'"
      ]
     },
     "execution_count": 63,
     "metadata": {},
     "output_type": "execute_result"
    }
   ],
   "source": [
    "spam.pop() #Remove last item by default"
   ]
  },
  {
   "cell_type": "code",
   "execution_count": 65,
   "id": "f3de7b9f",
   "metadata": {},
   "outputs": [],
   "source": [
    "spam.remove('amit')"
   ]
  },
  {
   "cell_type": "code",
   "execution_count": 67,
   "id": "f3c9add5",
   "metadata": {},
   "outputs": [],
   "source": [
    "#Q12. Describe how list values and string values are identical.\n",
    "#Answer: There is only one similarity between list values and string values that is both are sequences.\n",
    "# String values are collection of character sequences whereas List values are collection of elecments sequences of any type."
   ]
  },
  {
   "cell_type": "code",
   "execution_count": 68,
   "id": "31961219",
   "metadata": {},
   "outputs": [],
   "source": [
    "#Q13. What's the difference between tuples and lists?\n",
    "#Answer:The main difference between tuples and lists are as tuples are immutable objects whereas lists are mutable objects\n",
    "#Tuples can be changed while lists can be modified\n",
    "#Tuples are more memory efficient than lists"
   ]
  },
  {
   "cell_type": "code",
   "execution_count": 69,
   "id": "b680a314",
   "metadata": {},
   "outputs": [],
   "source": [
    "#Q14. How do you type a tuple value that only contains the integer 42?\n",
    "#Answer: I will write the tuple as \n",
    "# t=(42,)"
   ]
  },
  {
   "cell_type": "code",
   "execution_count": 70,
   "id": "a0657b0e",
   "metadata": {},
   "outputs": [],
   "source": [
    "#Q15. How do you get a list value's tuple form? How do you get a tuple value's list form?"
   ]
  },
  {
   "cell_type": "code",
   "execution_count": 72,
   "id": "209fd135",
   "metadata": {},
   "outputs": [],
   "source": [
    "#Answer:How do you get a list value's tuple form\n",
    "a=[[1,2],[2,4],[7,8]]\n",
    "tuple_val = [tuple(x) for x in a]"
   ]
  },
  {
   "cell_type": "code",
   "execution_count": 73,
   "id": "1e386964",
   "metadata": {},
   "outputs": [
    {
     "data": {
      "text/plain": [
       "[(1, 2), (2, 4), (7, 8)]"
      ]
     },
     "execution_count": 73,
     "metadata": {},
     "output_type": "execute_result"
    }
   ],
   "source": [
    "tuple_val"
   ]
  },
  {
   "cell_type": "code",
   "execution_count": 83,
   "id": "cfda0cf1",
   "metadata": {},
   "outputs": [],
   "source": [
    "#Answer:How do you get a tuple value's list form\n",
    "b=((1,2),(2,4),(7,8))\n",
    "list_val = [list(x) for x in b]"
   ]
  },
  {
   "cell_type": "code",
   "execution_count": 84,
   "id": "cbe6d106",
   "metadata": {},
   "outputs": [
    {
     "name": "stdout",
     "output_type": "stream",
     "text": [
      "[[1, 2], [2, 4], [7, 8]]\n"
     ]
    }
   ],
   "source": [
    "print(list_val)"
   ]
  },
  {
   "cell_type": "code",
   "execution_count": 85,
   "id": "2f26cf43",
   "metadata": {},
   "outputs": [],
   "source": [
    "#Q16. Variables that \"contain\" list values are not necessarily lists themselves. Instead, what do they contain?\n",
    "#Answer: They contain, int, string, tuple, boolean, complex, float, dictionary"
   ]
  },
  {
   "cell_type": "code",
   "execution_count": null,
   "id": "deec6e27",
   "metadata": {},
   "outputs": [],
   "source": [
    "#Q17. How do you distinguish between copy.copy() and copy.deepcopy()?\n",
    "#Answer: copy.copy() is also called shallow copy, it creates a new object which stores the reference of the original copy\n",
    "#new_list=copy.copy(old_list), it doesn't create a copy of nested objects\n",
    "#copy.deepcopy() creats a new object and recursively adds the copies of nested objects present in the original elements\n",
    "#new_list=copy.copy(old_list)"
   ]
  }
 ],
 "metadata": {
  "kernelspec": {
   "display_name": "Python 3",
   "language": "python",
   "name": "python3"
  },
  "language_info": {
   "codemirror_mode": {
    "name": "ipython",
    "version": 3
   },
   "file_extension": ".py",
   "mimetype": "text/x-python",
   "name": "python",
   "nbconvert_exporter": "python",
   "pygments_lexer": "ipython3",
   "version": "3.8.8"
  }
 },
 "nbformat": 4,
 "nbformat_minor": 5
}
