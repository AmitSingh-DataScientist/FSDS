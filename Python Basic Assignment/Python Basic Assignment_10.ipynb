{
 "cells": [
  {
   "cell_type": "markdown",
   "id": "53287740",
   "metadata": {},
   "source": [
    "#### Python Basic Assignment 10"
   ]
  },
  {
   "cell_type": "code",
   "execution_count": 1,
   "id": "e97f42b7",
   "metadata": {},
   "outputs": [
    {
     "data": {
      "text/plain": [
       "'\\n#Q1. How do you distinguish between shutil.copy() and shutil.copytree()?\\n#ANswer: The shutil.copy() function will copy a single file, while shutil.copytree() will copy an entire folder, \\nalong with all its contents.\\n'"
      ]
     },
     "execution_count": 1,
     "metadata": {},
     "output_type": "execute_result"
    }
   ],
   "source": [
    "'''\n",
    "#Q1. How do you distinguish between shutil.copy() and shutil.copytree()?\n",
    "#ANswer: The shutil.copy() function will copy a single file, while shutil.copytree() will copy an entire folder, \n",
    "along with all its contents.\n",
    "'''"
   ]
  },
  {
   "cell_type": "code",
   "execution_count": 2,
   "id": "96a908f4",
   "metadata": {},
   "outputs": [],
   "source": [
    "#Q2. What function is used to rename files??\n",
    "#Answer: The shutil.move() function is used for renaming files as well as moving them."
   ]
  },
  {
   "cell_type": "code",
   "execution_count": 3,
   "id": "b1840b64",
   "metadata": {},
   "outputs": [
    {
     "data": {
      "text/plain": [
       "'\\n#Q3. What is the difference between the delete functions in the send2trash and shutil modules?\\n#Answer: The send2trash functions will move a file or folder to the recycle bin, \\nwhile shutil functions will permanently delete files and folders.\\n'"
      ]
     },
     "execution_count": 3,
     "metadata": {},
     "output_type": "execute_result"
    }
   ],
   "source": [
    "'''\n",
    "#Q3. What is the difference between the delete functions in the send2trash and shutil modules?\n",
    "#Answer: The send2trash functions will move a file or folder to the recycle bin, \n",
    "while shutil functions will permanently delete files and folders.\n",
    "'''"
   ]
  },
  {
   "cell_type": "code",
   "execution_count": 4,
   "id": "e628cae6",
   "metadata": {},
   "outputs": [
    {
     "data": {
      "text/plain": [
       "'\\n#Q4. ZipFile objects have a close() method just like File objects’ close() method. \\nWhat ZipFile method is equivalent to File objects’ open() method?\\n\\n#Answer:The zipfile.ZipFile() function is equivalent to the open() function; the first argument is the filename, \\nand the second argument is the mode to open the ZIP file in (read, write, or append).\\n'"
      ]
     },
     "execution_count": 4,
     "metadata": {},
     "output_type": "execute_result"
    }
   ],
   "source": [
    "'''\n",
    "#Q4. ZipFile objects have a close() method just like File objects’ close() method. \n",
    "What ZipFile method is equivalent to File objects’ open() method?\n",
    "\n",
    "#Answer:The zipfile.ZipFile() function is equivalent to the open() function; the first argument is the filename, \n",
    "and the second argument is the mode to open the ZIP file in (read, write, or append).\n",
    "'''"
   ]
  },
  {
   "cell_type": "code",
   "execution_count": 5,
   "id": "9827b94f",
   "metadata": {},
   "outputs": [
    {
     "data": {
      "text/plain": [
       "'\\n#Q5. Create a programme that searches a folder tree for files with a certain file extension (such as .pdf or .jpg). \\nCopy these files from whatever location they are in to a new folder.\\n\\n#Answer: \\n'"
      ]
     },
     "execution_count": 5,
     "metadata": {},
     "output_type": "execute_result"
    }
   ],
   "source": [
    "'''\n",
    "#Q5. Create a programme that searches a folder tree for files with a certain file extension (such as .pdf or .jpg). \n",
    "Copy these files from whatever location they are in to a new folder.\n",
    "\n",
    "#Answer: \n",
    "'''"
   ]
  },
  {
   "cell_type": "code",
   "execution_count": 6,
   "id": "6e2344a9",
   "metadata": {},
   "outputs": [
    {
     "name": "stdout",
     "output_type": "stream",
     "text": [
      "Looking in C:\\Users\\amit.singh\\randomFolder for files with extensions of .php, .py\n"
     ]
    }
   ],
   "source": [
    "import os, shutil\n",
    "\n",
    "def selectiveCopy(folder, extensions, destFolder):\n",
    "    folder = os.path.abspath(folder)\n",
    "    destFolder = os.path.abspath(destFolder)\n",
    "    print('Looking in', folder, 'for files with extensions of', ', '.join(extensions))\n",
    "    for foldername, subfolders, filenames in os.walk(folder):\n",
    "        for filename in filenames:\n",
    "            name, extension = os.path.splitext(filename)\n",
    "            if extension in extensions:\n",
    "                fileAbsPath = foldername + os.path.sep + filename\n",
    "                print('Coping', fileAbsPath, 'to', destFolder)\n",
    "                shutil.copy(fileAbsPath, destFolder)\n",
    "\n",
    "extensions = ['.php', '.py']\n",
    "folder = 'randomFolder'\n",
    "destFolder = 'selectiveFolder'\n",
    "selectiveCopy(folder, extensions, destFolder)"
   ]
  },
  {
   "cell_type": "code",
   "execution_count": null,
   "id": "aad2e3d1",
   "metadata": {},
   "outputs": [],
   "source": []
  }
 ],
 "metadata": {
  "kernelspec": {
   "display_name": "Python 3 (ipykernel)",
   "language": "python",
   "name": "python3"
  },
  "language_info": {
   "codemirror_mode": {
    "name": "ipython",
    "version": 3
   },
   "file_extension": ".py",
   "mimetype": "text/x-python",
   "name": "python",
   "nbconvert_exporter": "python",
   "pygments_lexer": "ipython3",
   "version": "3.9.7"
  }
 },
 "nbformat": 4,
 "nbformat_minor": 5
}
