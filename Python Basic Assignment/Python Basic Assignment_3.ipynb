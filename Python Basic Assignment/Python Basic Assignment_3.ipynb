{
 "cells": [
  {
   "cell_type": "markdown",
   "id": "192f4823",
   "metadata": {},
   "source": [
    "### Python Basic Assignment 3"
   ]
  },
  {
   "cell_type": "code",
   "execution_count": 1,
   "id": "be9d97e0",
   "metadata": {},
   "outputs": [
    {
     "data": {
      "text/plain": [
       "'\\n#The main advantage is Reusability, once a function is defined, it can used over and over again. We can invoke the same \\nfunction in our program as many times to save our work.\\n'"
      ]
     },
     "execution_count": 1,
     "metadata": {},
     "output_type": "execute_result"
    }
   ],
   "source": [
    "#Q1. Why are functions advantageous to have in your programs?\n",
    "'''\n",
    "#The main advantage is Reusability, once a function is defined, it can used over and over again. We can invoke the same \n",
    "function in our program as many times to save our work.\n",
    "'''"
   ]
  },
  {
   "cell_type": "code",
   "execution_count": 2,
   "id": "c80c3331",
   "metadata": {},
   "outputs": [],
   "source": [
    "#Q2. When does the code in a function run: when it's specified or when it's called?\n",
    "#Answer: Function runs when it's called"
   ]
  },
  {
   "cell_type": "code",
   "execution_count": 3,
   "id": "81730599",
   "metadata": {},
   "outputs": [],
   "source": [
    "#Q3. What statement creates a function?\n",
    "#Answer: We use 'def' to create the function i.e. def fun_name()"
   ]
  },
  {
   "cell_type": "code",
   "execution_count": 4,
   "id": "d56717a5",
   "metadata": {},
   "outputs": [
    {
     "data": {
      "text/plain": [
       "'\\n#Answer: A function is a procedure to achieve a particular result/task while function call is using this function \\nto achieve this task/result \\n'"
      ]
     },
     "execution_count": 4,
     "metadata": {},
     "output_type": "execute_result"
    }
   ],
   "source": [
    "#Q4. What is the difference between a function and a function call?\n",
    "'''\n",
    "#Answer: A function is a procedure to achieve a particular result/task while function call is using this function \n",
    "to achieve this task/result \n",
    "'''"
   ]
  },
  {
   "cell_type": "code",
   "execution_count": 5,
   "id": "8a0ba3e0",
   "metadata": {},
   "outputs": [
    {
     "data": {
      "text/plain": [
       "'\\n#Answer: There is only one global scope whereas local scope created at function call so evereytime we call a function,\\n we are creating a local scope\\n'"
      ]
     },
     "execution_count": 5,
     "metadata": {},
     "output_type": "execute_result"
    }
   ],
   "source": [
    "#Q5. How many global scopes are there in a Python program? How many local scopes?\n",
    "'''\n",
    "#Answer: There is only one global scope whereas local scope created at function call so evereytime we call a function,\n",
    " we are creating a local scope\n",
    "'''"
   ]
  },
  {
   "cell_type": "code",
   "execution_count": 6,
   "id": "75efab32",
   "metadata": {},
   "outputs": [],
   "source": [
    "#Q6. What happens to variables in a local scope when the function call returns?\n",
    "#Answer: When the fucntion call return subsequently variable in a local scope destroyed"
   ]
  },
  {
   "cell_type": "code",
   "execution_count": 8,
   "id": "e737109d",
   "metadata": {},
   "outputs": [
    {
     "data": {
      "text/plain": [
       "'\\n#Answer : Return value is used to end the execution of function call and returns the result. \\nYes we can have the return value in an expresion.\\n'"
      ]
     },
     "execution_count": 8,
     "metadata": {},
     "output_type": "execute_result"
    }
   ],
   "source": [
    "#Q7. What is the concept of a return value? Is it possible to have a return value in an expression?\n",
    "'''\n",
    "#Answer : Return value is used to end the execution of function call and returns the result. \n",
    "Yes we can have the return value in an expresion.\n",
    "'''"
   ]
  },
  {
   "cell_type": "code",
   "execution_count": 16,
   "id": "a786ead4",
   "metadata": {},
   "outputs": [],
   "source": [
    "#Q8. If a function does not have a return statement, what is the return value of a call to that function?\n",
    "#Answer: If there isn't return statement specified then it return None"
   ]
  },
  {
   "cell_type": "code",
   "execution_count": 17,
   "id": "ff7d5b12",
   "metadata": {},
   "outputs": [],
   "source": [
    "#Q9. How do you make a function variable refer to the global variable?\n",
    "#Answer: We need to use globle keyword to declare the variable as global variable"
   ]
  },
  {
   "cell_type": "code",
   "execution_count": 19,
   "id": "ce9ec1bb",
   "metadata": {},
   "outputs": [],
   "source": [
    "#Q10. What is the data type of None?\n",
    "#Answer: The data type of None is NoneType"
   ]
  },
  {
   "cell_type": "code",
   "execution_count": 21,
   "id": "c69d29ce",
   "metadata": {},
   "outputs": [],
   "source": [
    "#Q11. What does the sentence import areallyourpetsnamederic do?\n",
    "#Answer: It will through an error, No module named 'areallyourpetsnamederic'"
   ]
  },
  {
   "cell_type": "code",
   "execution_count": 23,
   "id": "fc2067cc",
   "metadata": {},
   "outputs": [],
   "source": [
    "#Q12. If you had a bacon() feature in a spam module, what would you call it after importing spam?\n",
    "#Answer: We would be calling like spam.bacon()"
   ]
  },
  {
   "cell_type": "code",
   "execution_count": 24,
   "id": "7a950a54",
   "metadata": {},
   "outputs": [],
   "source": [
    "#Q13. What can you do to save a programme from crashing if it encounters an error?\n",
    "#Answer: We will use try and except block to deal with it"
   ]
  },
  {
   "cell_type": "code",
   "execution_count": 25,
   "id": "a88032cf",
   "metadata": {},
   "outputs": [
    {
     "data": {
      "text/plain": [
       "'\\n#Answer:We use all our code inside try clause/block, except block/cluase is used to catch an exception. \\nIf any error/exception is encountered, the content of except block runs\\n'"
      ]
     },
     "execution_count": 25,
     "metadata": {},
     "output_type": "execute_result"
    }
   ],
   "source": [
    "#Q14. What is the purpose of the try clause? What is the purpose of the except clause?\n",
    "'''\n",
    "#Answer:We use all our code inside try clause/block, except block/cluase is used to catch an exception. \n",
    "If any error/exception is encountered, the content of except block runs\n",
    "'''"
   ]
  },
  {
   "cell_type": "code",
   "execution_count": null,
   "id": "b31072c4",
   "metadata": {},
   "outputs": [],
   "source": []
  }
 ],
 "metadata": {
  "kernelspec": {
   "display_name": "Python 3",
   "language": "python",
   "name": "python3"
  },
  "language_info": {
   "codemirror_mode": {
    "name": "ipython",
    "version": 3
   },
   "file_extension": ".py",
   "mimetype": "text/x-python",
   "name": "python",
   "nbconvert_exporter": "python",
   "pygments_lexer": "ipython3",
   "version": "3.8.8"
  }
 },
 "nbformat": 4,
 "nbformat_minor": 5
}
