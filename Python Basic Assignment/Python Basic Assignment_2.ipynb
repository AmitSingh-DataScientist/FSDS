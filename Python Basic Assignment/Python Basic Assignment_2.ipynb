{
 "cells": [
  {
   "cell_type": "markdown",
   "id": "53c5e864",
   "metadata": {},
   "source": [
    "### Python Basic Assignment 2"
   ]
  },
  {
   "cell_type": "code",
   "execution_count": 2,
   "id": "5d084909",
   "metadata": {},
   "outputs": [],
   "source": [
    "#Q1.What are the two values of the Boolean data type? How do you write them?\n",
    "#Answer: Two values of the Boolean data type are : True & False"
   ]
  },
  {
   "cell_type": "code",
   "execution_count": 4,
   "id": "0c297c3b",
   "metadata": {},
   "outputs": [],
   "source": [
    "#Q2. What are the three different types of Boolean operators?\n",
    "#Answer: Three different types of Boolean operators are : AND, OR, NOT"
   ]
  },
  {
   "cell_type": "code",
   "execution_count": 5,
   "id": "24d3ed20",
   "metadata": {},
   "outputs": [
    {
     "data": {
      "text/plain": [
       "\"\\n#Q3. Make a list of each Boolean operator's truth tables (i.e. every possible combination of Boolean values \\nfor the operator and what it evaluate ).\\n\\n#Answer:\\nValue1  Value2   AND    OR\\nTrue    True     True   True\\nTrue    False    False  True\\nFalse   True     False  True\\nFalse   False    False  False\\n\\nValue   NOT\\nTrue    False\\nFalse   True\\n\\n\""
      ]
     },
     "execution_count": 5,
     "metadata": {},
     "output_type": "execute_result"
    }
   ],
   "source": [
    "'''\n",
    "#Q3. Make a list of each Boolean operator's truth tables (i.e. every possible combination of Boolean values \n",
    "for the operator and what it evaluate ).\n",
    "\n",
    "#Answer:\n",
    "Value1  Value2   AND    OR\n",
    "True    True     True   True\n",
    "True    False    False  True\n",
    "False   True     False  True\n",
    "False   False    False  False\n",
    "\n",
    "Value   NOT\n",
    "True    False\n",
    "False   True\n",
    "\n",
    "'''"
   ]
  },
  {
   "cell_type": "code",
   "execution_count": 6,
   "id": "cd6f6679",
   "metadata": {},
   "outputs": [
    {
     "data": {
      "text/plain": [
       "True"
      ]
     },
     "execution_count": 6,
     "metadata": {},
     "output_type": "execute_result"
    }
   ],
   "source": [
    "#Q4. What are the values of the following expressions?\n",
    "(5 > 4) and (3 == 5)\n",
    "not (5 > 4)\n",
    "(5 > 4) or (3 == 5)\n",
    "not ((5 > 4) or (3 == 5))\n",
    "(True and True) and (True == False)\n",
    "(not False) or (not True)\n"
   ]
  },
  {
   "cell_type": "code",
   "execution_count": 7,
   "id": "6060b044",
   "metadata": {},
   "outputs": [
    {
     "data": {
      "text/plain": [
       "False"
      ]
     },
     "execution_count": 7,
     "metadata": {},
     "output_type": "execute_result"
    }
   ],
   "source": [
    "(5 > 4) and (3 == 5)"
   ]
  },
  {
   "cell_type": "code",
   "execution_count": 8,
   "id": "228c089c",
   "metadata": {},
   "outputs": [
    {
     "data": {
      "text/plain": [
       "False"
      ]
     },
     "execution_count": 8,
     "metadata": {},
     "output_type": "execute_result"
    }
   ],
   "source": [
    "not (5 > 4)"
   ]
  },
  {
   "cell_type": "code",
   "execution_count": 9,
   "id": "68c49453",
   "metadata": {},
   "outputs": [
    {
     "data": {
      "text/plain": [
       "True"
      ]
     },
     "execution_count": 9,
     "metadata": {},
     "output_type": "execute_result"
    }
   ],
   "source": [
    "(5 > 4) or (3 == 5)"
   ]
  },
  {
   "cell_type": "code",
   "execution_count": 10,
   "id": "a476afe9",
   "metadata": {},
   "outputs": [
    {
     "data": {
      "text/plain": [
       "False"
      ]
     },
     "execution_count": 10,
     "metadata": {},
     "output_type": "execute_result"
    }
   ],
   "source": [
    "not ((5 > 4) or (3 == 5))"
   ]
  },
  {
   "cell_type": "code",
   "execution_count": 11,
   "id": "ece0adf1",
   "metadata": {},
   "outputs": [
    {
     "data": {
      "text/plain": [
       "False"
      ]
     },
     "execution_count": 11,
     "metadata": {},
     "output_type": "execute_result"
    }
   ],
   "source": [
    "(True and True) and (True == False)"
   ]
  },
  {
   "cell_type": "code",
   "execution_count": 12,
   "id": "0d640f78",
   "metadata": {},
   "outputs": [
    {
     "data": {
      "text/plain": [
       "True"
      ]
     },
     "execution_count": 12,
     "metadata": {},
     "output_type": "execute_result"
    }
   ],
   "source": [
    "(not False) or (not True)"
   ]
  },
  {
   "cell_type": "code",
   "execution_count": 13,
   "id": "974f7314",
   "metadata": {},
   "outputs": [],
   "source": [
    "#Q5. What are the six comparison operators?\n",
    "#Answer: Six comparison operators are : >,>=,<,<=,==,!="
   ]
  },
  {
   "cell_type": "code",
   "execution_count": 14,
   "id": "b5a736b4",
   "metadata": {},
   "outputs": [
    {
     "data": {
      "text/plain": [
       "'\\n#Q6. How do you tell the difference between the equal to and assignment operators?\\nDescribe a condition and when you would use one.\\n\\n#Answer: Assignment operator is used to assign a value to a varibale\\n        Equal to is used to compare two operans for checking whether both are same or not\\nAssignment operator:\\na=4\\nb=5\\nEqal to\\na==b\\n'"
      ]
     },
     "execution_count": 14,
     "metadata": {},
     "output_type": "execute_result"
    }
   ],
   "source": [
    "'''\n",
    "#Q6. How do you tell the difference between the equal to and assignment operators?\n",
    "Describe a condition and when you would use one.\n",
    "\n",
    "#Answer: Assignment operator is used to assign a value to a varibale\n",
    "        Equal to is used to compare two operans for checking whether both are same or not\n",
    "Assignment operator:\n",
    "a=4\n",
    "b=5\n",
    "Eqal to\n",
    "a==b\n",
    "'''"
   ]
  },
  {
   "cell_type": "code",
   "execution_count": 17,
   "id": "2f10426e",
   "metadata": {},
   "outputs": [
    {
     "name": "stdout",
     "output_type": "stream",
     "text": [
      "ham\n",
      "spam\n",
      "spam\n"
     ]
    }
   ],
   "source": [
    "#Q7. Identify the three blocks in this code:\n",
    "spam = 0\n",
    "if spam == 10:\n",
    "    print('eggs')\n",
    "if spam > 5:\n",
    "    print('bacon')\n",
    "else:\n",
    "    print('ham')\n",
    "    print('spam')\n",
    "    print('spam')\n",
    "\n",
    "#Answer if spam == 10:,if spam > 5:, else:"
   ]
  },
  {
   "cell_type": "code",
   "execution_count": 23,
   "id": "01749c61",
   "metadata": {},
   "outputs": [
    {
     "name": "stdout",
     "output_type": "stream",
     "text": [
      "Greetings!\n"
     ]
    }
   ],
   "source": [
    "'''\n",
    "#Q8. Write code that prints Hello if 1 is stored in spam, prints Howdy if 2 is stored in spam, and prints Greetings! \n",
    "if anything else is stored in spam.\n",
    "'''\n",
    "#Answer:\n",
    "spam=0\n",
    "if spam == 1:\n",
    "    print(\"Hello\")\n",
    "elif spam==2:\n",
    "    print(\"Howdy\")\n",
    "else:\n",
    "    print(\"Greetings!\")"
   ]
  },
  {
   "cell_type": "code",
   "execution_count": 24,
   "id": "a9414cca",
   "metadata": {},
   "outputs": [],
   "source": [
    "#Q9.If your programme is stuck in an endless loop, what keys you’ll press?\n",
    "#Answer: Ctrl+C"
   ]
  },
  {
   "cell_type": "code",
   "execution_count": 25,
   "id": "1eee8750",
   "metadata": {},
   "outputs": [
    {
     "data": {
      "text/plain": [
       "'\\n#Answer: Break: break statemnt is used to terminate the loop or statement in which it is used, after that the control \\ngoes to the statements present after break statement.\\n\\nContinue: continue statement is used to skip the codes that comes after that and the control is passed back \\nto the next itiration\\n\\n'"
      ]
     },
     "execution_count": 25,
     "metadata": {},
     "output_type": "execute_result"
    }
   ],
   "source": [
    "#Q10. How can you tell the difference between break and continue?\n",
    "'''\n",
    "#Answer: Break: break statemnt is used to terminate the loop or statement in which it is used, after that the control \n",
    "goes to the statements present after break statement.\n",
    "\n",
    "Continue: continue statement is used to skip the codes that comes after that and the control is passed back \n",
    "to the next itiration\n",
    "\n",
    "'''"
   ]
  },
  {
   "cell_type": "code",
   "execution_count": 26,
   "id": "69024e01",
   "metadata": {},
   "outputs": [],
   "source": [
    "#Q11. In a for loop, what is the difference between range(10), range(0, 10), and range(0, 10, 1)?\n",
    "#Answer : All three are same, it's diffrent way of writing the same range funtion having value from 0...9\n",
    "#i am also explaning all three option below one by one"
   ]
  },
  {
   "cell_type": "code",
   "execution_count": 28,
   "id": "cd65ff6a",
   "metadata": {},
   "outputs": [
    {
     "data": {
      "text/plain": [
       "[0, 1, 2, 3, 4, 5, 6, 7, 8, 9]"
      ]
     },
     "execution_count": 28,
     "metadata": {},
     "output_type": "execute_result"
    }
   ],
   "source": [
    "list(range(10))"
   ]
  },
  {
   "cell_type": "code",
   "execution_count": 29,
   "id": "f024da8a",
   "metadata": {},
   "outputs": [
    {
     "data": {
      "text/plain": [
       "[0, 1, 2, 3, 4, 5, 6, 7, 8, 9]"
      ]
     },
     "execution_count": 29,
     "metadata": {},
     "output_type": "execute_result"
    }
   ],
   "source": [
    "list(range(0,10))"
   ]
  },
  {
   "cell_type": "code",
   "execution_count": 31,
   "id": "648dd87e",
   "metadata": {},
   "outputs": [
    {
     "data": {
      "text/plain": [
       "[0, 1, 2, 3, 4, 5, 6, 7, 8, 9]"
      ]
     },
     "execution_count": 31,
     "metadata": {},
     "output_type": "execute_result"
    }
   ],
   "source": [
    "list(range(0,10,1))"
   ]
  },
  {
   "cell_type": "code",
   "execution_count": 34,
   "id": "b1d0232f",
   "metadata": {},
   "outputs": [
    {
     "name": "stdout",
     "output_type": "stream",
     "text": [
      "1\n",
      "2\n",
      "3\n",
      "4\n",
      "5\n",
      "6\n",
      "7\n",
      "8\n",
      "9\n",
      "10\n"
     ]
    }
   ],
   "source": [
    "'''\n",
    "#Q12. Write a short program that prints the numbers 1 to 10 using a for loop. Then write an equivalent program that prints \n",
    "the numbers 1 to 10 using a while loop.\n",
    "'''\n",
    "#Answer: using for loop\n",
    "for i in range(1,11,1):\n",
    "    print(i)"
   ]
  },
  {
   "cell_type": "code",
   "execution_count": 35,
   "id": "2aee8c92",
   "metadata": {},
   "outputs": [
    {
     "name": "stdout",
     "output_type": "stream",
     "text": [
      "1\n",
      "2\n",
      "3\n",
      "4\n",
      "5\n",
      "6\n",
      "7\n",
      "8\n",
      "9\n",
      "10\n"
     ]
    }
   ],
   "source": [
    "#Answer: using while loop\n",
    "i=1\n",
    "while i<11:\n",
    "    print(i)\n",
    "    i+=1"
   ]
  },
  {
   "cell_type": "code",
   "execution_count": null,
   "id": "31e6f347",
   "metadata": {},
   "outputs": [],
   "source": [
    "#Q13. If you had a function named bacon() inside a module named spam, how would you call it after importing spam?\n",
    "\n",
    "#Answer: i can call the function "
   ]
  }
 ],
 "metadata": {
  "kernelspec": {
   "display_name": "Python 3",
   "language": "python",
   "name": "python3"
  },
  "language_info": {
   "codemirror_mode": {
    "name": "ipython",
    "version": 3
   },
   "file_extension": ".py",
   "mimetype": "text/x-python",
   "name": "python",
   "nbconvert_exporter": "python",
   "pygments_lexer": "ipython3",
   "version": "3.8.8"
  }
 },
 "nbformat": 4,
 "nbformat_minor": 5
}
