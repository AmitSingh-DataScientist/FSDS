{
 "cells": [
  {
   "cell_type": "markdown",
   "id": "70d922f1",
   "metadata": {},
   "source": [
    "#### Python Basic Assignment 12"
   ]
  },
  {
   "cell_type": "code",
   "execution_count": 1,
   "id": "b358267c",
   "metadata": {},
   "outputs": [],
   "source": [
    "#Q1. In what modes should the PdfFileReader() and PdfFileWriter() File objects will be opened?\n",
    "#ANswer: Read-binary ('rb') for PdfFileReader() and write-binary ('wb') for PdfFileWriter()"
   ]
  },
  {
   "cell_type": "code",
   "execution_count": 2,
   "id": "e6eff0be",
   "metadata": {},
   "outputs": [],
   "source": [
    "#Q2. From a PdfFileReader object, how do you get a Page object for page 5?\n",
    "#ANswer: By Calling getPage(4) will return a Page object for page 5, since page 0 is the first page."
   ]
  },
  {
   "cell_type": "code",
   "execution_count": 3,
   "id": "0506ab87",
   "metadata": {},
   "outputs": [],
   "source": [
    "#Q3. What PdfFileReader variable stores the number of pages in the PDF document?\n",
    "#Answer: The numPages variable stores an integer of the number of pages in the PdfFileReader object."
   ]
  },
  {
   "cell_type": "code",
   "execution_count": 4,
   "id": "9e7df806",
   "metadata": {},
   "outputs": [
    {
     "data": {
      "text/plain": [
       "\"\\n#Q4. If a PdfFileReader object’s PDF is encrypted with the password swordfish, what must you do before you can obtain \\nPage objects from it?\\n#Answer: We will use Call decrypt('swordfish')\\n\\n\""
      ]
     },
     "execution_count": 4,
     "metadata": {},
     "output_type": "execute_result"
    }
   ],
   "source": [
    "'''\n",
    "#Q4. If a PdfFileReader object’s PDF is encrypted with the password swordfish, what must you do before you can obtain \n",
    "Page objects from it?\n",
    "#Answer: We will use Call decrypt('swordfish')\n",
    "\n",
    "'''"
   ]
  },
  {
   "cell_type": "code",
   "execution_count": 5,
   "id": "a0aafb57",
   "metadata": {},
   "outputs": [],
   "source": [
    "#Q5. What methods do you use to rotate a page?\n",
    "#Answer: The rotateClockwise() and rotateCounterClockwise() methods. The degrees to rotate is passed as an integer argument."
   ]
  },
  {
   "cell_type": "code",
   "execution_count": 6,
   "id": "98d81db6",
   "metadata": {},
   "outputs": [],
   "source": [
    "#Q6. What is the difference between a Run object and a Paragraph object?\n",
    "#Answer: A document contains multiple paragraphs. \n",
    "# A paragraph begins on a new line and contains multiple runs. \n",
    "# Runs are contiguous groups of characters within a paragraph."
   ]
  },
  {
   "cell_type": "code",
   "execution_count": 7,
   "id": "4b5d7896",
   "metadata": {},
   "outputs": [],
   "source": [
    "#Q7. How do you obtain a list of Paragraph objects for a Document object that’s stored in a variable named doc?\n",
    "#Answer: We will use Use doc.paragraphs"
   ]
  },
  {
   "cell_type": "code",
   "execution_count": 8,
   "id": "2ace5ff3",
   "metadata": {},
   "outputs": [],
   "source": [
    "#Q8. What type of object has bold, underline, italic, strike, and outline variables?\n",
    "#Answer: A Run object has these variables (not a Paragraph)"
   ]
  },
  {
   "cell_type": "code",
   "execution_count": 9,
   "id": "c7a5c50f",
   "metadata": {},
   "outputs": [],
   "source": [
    "#Q9. What is the difference between False, True, and None for the bold variable?\n",
    "#Answer: True always makes the Run object bolded and False makes it always not bolded, no matter what the style’s bold setting is. \n",
    "# None will make the Run object just use the style’s bold setting."
   ]
  },
  {
   "cell_type": "code",
   "execution_count": 10,
   "id": "275a43da",
   "metadata": {},
   "outputs": [],
   "source": [
    "#Q10. How do you create a Document object for a new Word document?\n",
    "#Answer: We will use Call the docx.Document() function"
   ]
  },
  {
   "cell_type": "code",
   "execution_count": 11,
   "id": "8586465c",
   "metadata": {},
   "outputs": [],
   "source": [
    "#Q11. How do you add a paragraph with the text 'Hello, there!' to a Document object stored in a variable named doc?\n",
    "#Answer: We will use like doc.add_paragraph('Hello there!')"
   ]
  },
  {
   "cell_type": "code",
   "execution_count": 12,
   "id": "cd4e86cf",
   "metadata": {},
   "outputs": [],
   "source": [
    "#Q12. What integers represent the levels of headings available in Word documents?\n",
    "#Answer: The integers 0, 1, 2, 3, and 4"
   ]
  },
  {
   "cell_type": "code",
   "execution_count": null,
   "id": "74af0b6d",
   "metadata": {},
   "outputs": [],
   "source": []
  }
 ],
 "metadata": {
  "kernelspec": {
   "display_name": "Python 3 (ipykernel)",
   "language": "python",
   "name": "python3"
  },
  "language_info": {
   "codemirror_mode": {
    "name": "ipython",
    "version": 3
   },
   "file_extension": ".py",
   "mimetype": "text/x-python",
   "name": "python",
   "nbconvert_exporter": "python",
   "pygments_lexer": "ipython3",
   "version": "3.9.7"
  }
 },
 "nbformat": 4,
 "nbformat_minor": 5
}
