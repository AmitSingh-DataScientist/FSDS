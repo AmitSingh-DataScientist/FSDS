{
 "cells": [
  {
   "cell_type": "markdown",
   "id": "9f5d255c",
   "metadata": {},
   "source": [
    "#### Python Basic Assignment 8"
   ]
  },
  {
   "cell_type": "code",
   "execution_count": 1,
   "id": "b614dbf9",
   "metadata": {},
   "outputs": [],
   "source": [
    "# Q1. Is the Python Standard Library included with PyInputPlus?\n",
    "#Answer: No. PyInputPlus is a third-party module and doesn’t come with the Python Standard Library."
   ]
  },
  {
   "cell_type": "code",
   "execution_count": 2,
   "id": "a2d8098e",
   "metadata": {},
   "outputs": [
    {
     "data": {
      "text/plain": [
       "\"\\n#Q2. Why is PyInputPlus commonly imported with import pyinputplus as pypi?\\n#Answer:We can import the module with import pyinputplus as pyip so that we can enter a shorter name when calling the module's \\nfunctions. PyInputPlus has functions for entering a variety of input, including strings, numbers, dates, yes/no, \\nTrue/False, emails, and files\\n\""
      ]
     },
     "execution_count": 2,
     "metadata": {},
     "output_type": "execute_result"
    }
   ],
   "source": [
    "'''\n",
    "#Q2. Why is PyInputPlus commonly imported with import pyinputplus as pypi?\n",
    "#Answer:We can import the module with import pyinputplus as pyip so that we can enter a shorter name when calling the module's \n",
    "functions. PyInputPlus has functions for entering a variety of input, including strings, numbers, dates, yes/no, \n",
    "True/False, emails, and files\n",
    "'''"
   ]
  },
  {
   "cell_type": "code",
   "execution_count": 3,
   "id": "1622cef6",
   "metadata": {},
   "outputs": [
    {
     "data": {
      "text/plain": [
       "'\\n#Q3. How do you distinguish between inputInt() and inputFloat()?\\n#Answer : The inputInt() function returns an int value, while the inputFloat() function returns a float value. \\nThis is the difference between returning 4 and 4.0.\\n'"
      ]
     },
     "execution_count": 3,
     "metadata": {},
     "output_type": "execute_result"
    }
   ],
   "source": [
    "'''\n",
    "#Q3. How do you distinguish between inputInt() and inputFloat()?\n",
    "#Answer : The inputInt() function returns an int value, while the inputFloat() function returns a float value. \n",
    "This is the difference between returning 4 and 4.0.\n",
    "'''"
   ]
  },
  {
   "cell_type": "code",
   "execution_count": 4,
   "id": "07543875",
   "metadata": {},
   "outputs": [],
   "source": [
    "#Q4. Using PyInputPlus, how do you ensure that the user enters a whole number between 0 and 99?\n",
    "#Answer: We will use like Call pyip.inputint(min=0, max=99)."
   ]
  },
  {
   "cell_type": "code",
   "execution_count": 5,
   "id": "fd9edfd9",
   "metadata": {},
   "outputs": [],
   "source": [
    "#Q5. What is transferred to the keyword arguments allowRegexes and blockRegexes?\n",
    "#Answer: A list of regex strings that are either explicitly allowed or denied."
   ]
  },
  {
   "cell_type": "code",
   "execution_count": 6,
   "id": "f5b9bbb7",
   "metadata": {},
   "outputs": [],
   "source": [
    "#Q6. If a blank input is entered three times, what does inputStr(limit=3) do?\n",
    "#Answer: The function inputStr(limit=3) will raise RetryLimitException"
   ]
  },
  {
   "cell_type": "code",
   "execution_count": 7,
   "id": "498431fa",
   "metadata": {},
   "outputs": [],
   "source": [
    "#Q7. If blank input is entered three times, what does inputStr(limit=3, default='hello') do?\n",
    "#Answer: The function returns the value 'hello'"
   ]
  },
  {
   "cell_type": "code",
   "execution_count": null,
   "id": "5edfedef",
   "metadata": {},
   "outputs": [],
   "source": []
  }
 ],
 "metadata": {
  "kernelspec": {
   "display_name": "Python 3 (ipykernel)",
   "language": "python",
   "name": "python3"
  },
  "language_info": {
   "codemirror_mode": {
    "name": "ipython",
    "version": 3
   },
   "file_extension": ".py",
   "mimetype": "text/x-python",
   "name": "python",
   "nbconvert_exporter": "python",
   "pygments_lexer": "ipython3",
   "version": "3.9.7"
  }
 },
 "nbformat": 4,
 "nbformat_minor": 5
}
