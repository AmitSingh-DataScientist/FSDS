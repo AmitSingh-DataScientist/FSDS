{
 "cells": [
  {
   "cell_type": "markdown",
   "id": "51a1d1be",
   "metadata": {},
   "source": [
    "### Python Basic Assignment 4"
   ]
  },
  {
   "cell_type": "code",
   "execution_count": 4,
   "id": "ad8ad3a1",
   "metadata": {},
   "outputs": [
    {
     "name": "stdout",
     "output_type": "stream",
     "text": [
      "<class 'dict'>\n"
     ]
    }
   ],
   "source": [
    "#Q1. What does an empty dictionary's code look like?\n",
    "#Answer: It looks like as\n",
    "empty_dict={}\n",
    "print(type(empty_dict))"
   ]
  },
  {
   "cell_type": "code",
   "execution_count": 7,
   "id": "f50ee04a",
   "metadata": {},
   "outputs": [
    {
     "name": "stdout",
     "output_type": "stream",
     "text": [
      "dict_values([42])\n"
     ]
    }
   ],
   "source": [
    "#Q2. What is the value of a dictionary value with the key 'foo' and the value 42?\n",
    "#Answer: The value will be like:\n",
    "dict = {\"foo\": 42}\n",
    "print(dict.values())"
   ]
  },
  {
   "cell_type": "code",
   "execution_count": 8,
   "id": "8c017091",
   "metadata": {},
   "outputs": [],
   "source": [
    "#Q3. What is the most significant distinction between a dictionary and a list?\n",
    "#Answer : A List is an ordered sequence of objects and it is defined by using symbol '[]', Whereas \n",
    "# Dictionary is an unordered key-vale pair objects, and it is defined by using symbol '{}'."
   ]
  },
  {
   "cell_type": "code",
   "execution_count": 10,
   "id": "5701542b",
   "metadata": {},
   "outputs": [],
   "source": [
    "#Q4. What happens if you try to access spam['foo'] if spam is {'bar': 100}?\n",
    "#Answer: It will through a KeyError as 'foo' key is not defined in dictionary spam\n",
    "spam={\"bar\":100}\n",
    "spam['foo']"
   ]
  },
  {
   "cell_type": "code",
   "execution_count": 11,
   "id": "78748875",
   "metadata": {},
   "outputs": [],
   "source": [
    "#Q5. If a dictionary is stored in spam, what is the difference between the expressions 'cat' in spam and 'cat' in spam.keys()?\n",
    "#ANswer: There isn't any difference as both checks whether there is a \"cat\" key in dictionary."
   ]
  },
  {
   "cell_type": "code",
   "execution_count": 12,
   "id": "e5d28bef",
   "metadata": {},
   "outputs": [],
   "source": [
    "#Q6. If a dictionary is stored in spam, what is the difference between the expressions 'cat' in spam and 'cat' in spam.values()?\n",
    "'''\n",
    "#Answer : There is a subtle difference as the expressions 'cat' in spam will check whether there is a key 'cate' in dictionar \n",
    "whereas 'cat' in spam.keys() will return the value 'cat' for any of the keys of dictionary\n",
    "'''"
   ]
  },
  {
   "cell_type": "code",
   "execution_count": 17,
   "id": "edf4a744",
   "metadata": {},
   "outputs": [
    {
     "data": {
      "text/plain": [
       "'\\n#Q7. What is a shortcut for the following code?\\nif \\'color\\' not in spam:\\n    spam[\\'color\\'] = \\'black\\'\\n\\nAnswer: The shortcut will be: spam.setdefault(\"color\", \"black\")\\n'"
      ]
     },
     "execution_count": 17,
     "metadata": {},
     "output_type": "execute_result"
    }
   ],
   "source": [
    "'''\n",
    "#Q7. What is a shortcut for the following code?\n",
    "if 'color' not in spam:\n",
    "    spam['color'] = 'black'\n",
    "\n",
    "Answer: The shortcut will be: spam.setdefault(\"color\", \"black\")\n",
    "'''"
   ]
  },
  {
   "cell_type": "code",
   "execution_count": 18,
   "id": "d575d77d",
   "metadata": {},
   "outputs": [],
   "source": [
    "#Q8. How do you \"pretty print\" dictionary values using which module and function?\n",
    "#Answer: We can do that using module 'pprint' and function 'pprint()' i.e. pprint.pprint()"
   ]
  },
  {
   "cell_type": "code",
   "execution_count": null,
   "id": "b93a36d5",
   "metadata": {},
   "outputs": [],
   "source": []
  }
 ],
 "metadata": {
  "kernelspec": {
   "display_name": "Python 3",
   "language": "python",
   "name": "python3"
  },
  "language_info": {
   "codemirror_mode": {
    "name": "ipython",
    "version": 3
   },
   "file_extension": ".py",
   "mimetype": "text/x-python",
   "name": "python",
   "nbconvert_exporter": "python",
   "pygments_lexer": "ipython3",
   "version": "3.8.8"
  }
 },
 "nbformat": 4,
 "nbformat_minor": 5
}
