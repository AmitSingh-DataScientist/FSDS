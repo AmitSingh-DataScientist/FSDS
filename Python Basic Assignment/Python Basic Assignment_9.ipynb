{
 "cells": [
  {
   "cell_type": "markdown",
   "id": "e1d87915",
   "metadata": {},
   "source": [
    "#### Python Basic Assignment 9"
   ]
  },
  {
   "cell_type": "code",
   "execution_count": 1,
   "id": "68e5ce1b",
   "metadata": {},
   "outputs": [],
   "source": [
    "#Q1. To what does a relative path refer?\n",
    "#Answer: Relative paths refer to the current working directory."
   ]
  },
  {
   "cell_type": "code",
   "execution_count": 2,
   "id": "b65ebefa",
   "metadata": {},
   "outputs": [],
   "source": [
    "#Q2. What does an absolute path start with your operating system?\n",
    "#Answer: Absolute paths start with the root folder, such as / or C:\\"
   ]
  },
  {
   "cell_type": "code",
   "execution_count": 4,
   "id": "472dec26",
   "metadata": {},
   "outputs": [
    {
     "data": {
      "text/plain": [
       "'\\n#Q3. What do the functions os.getcwd() and os.chdir() do?\\n#Answer: The os.getcwd() function returns the current working directory. \\nThe os.chdir() function changes the current working directory\\n'"
      ]
     },
     "execution_count": 4,
     "metadata": {},
     "output_type": "execute_result"
    }
   ],
   "source": [
    "'''\n",
    "#Q3. What do the functions os.getcwd() and os.chdir() do?\n",
    "#Answer: The os.getcwd() function returns the current working directory. \n",
    "The os.chdir() function changes the current working directory\n",
    "'''"
   ]
  },
  {
   "cell_type": "code",
   "execution_count": 5,
   "id": "b939240d",
   "metadata": {},
   "outputs": [],
   "source": [
    "#Q4. What are the . and .. folders?\n",
    "#Answer: The . folder is the current folder, and .. is the parent folder."
   ]
  },
  {
   "cell_type": "code",
   "execution_count": 6,
   "id": "13b83f51",
   "metadata": {},
   "outputs": [],
   "source": [
    "#Q5. In C:\\bacon\\eggs\\spam.txt, which part is the dir name, and which part is the base name?\n",
    "#Answer: C:\\bacon\\eggs is the dir name, while spam.txt is the base name."
   ]
  },
  {
   "cell_type": "code",
   "execution_count": 7,
   "id": "7e58f28e",
   "metadata": {},
   "outputs": [],
   "source": [
    "#Q6. What are the three “mode” arguments that can be passed to the open() function?\n",
    "#Answer: We can pass string 'r' for read mode, 'w' for write mode, and 'a' for append mode"
   ]
  },
  {
   "cell_type": "code",
   "execution_count": 8,
   "id": "b662f4fa",
   "metadata": {},
   "outputs": [],
   "source": [
    "#Q7. What happens if an existing file is opened in write mode?\n",
    "#Answer: An existing file opened in write mode,then it is erased and completely overwritten."
   ]
  },
  {
   "cell_type": "code",
   "execution_count": 9,
   "id": "55287775",
   "metadata": {},
   "outputs": [
    {
     "data": {
      "text/plain": [
       "'\\n#Q8. How do you tell the difference between read() and readlines()?\\n#Answer:The read() method returns the file’s entire contents as a single string value. \\nThe readlines() method returns a list of strings, where each string is a line from the file’s contents.\\n'"
      ]
     },
     "execution_count": 9,
     "metadata": {},
     "output_type": "execute_result"
    }
   ],
   "source": [
    "'''\n",
    "#Q8. How do you tell the difference between read() and readlines()?\n",
    "#Answer:The read() method returns the file’s entire contents as a single string value. \n",
    "The readlines() method returns a list of strings, where each string is a line from the file’s contents.\n",
    "'''"
   ]
  },
  {
   "cell_type": "code",
   "execution_count": 10,
   "id": "e427139c",
   "metadata": {},
   "outputs": [
    {
     "data": {
      "text/plain": [
       "'\\n#Q9. What data structure does a shelf value resemble?\\n#Answer: A shelf value resembles a dictionary value; it has keys and values, along with keys() and \\nvalues() methods that work similarly to the dictionary methods of the same names.\\n'"
      ]
     },
     "execution_count": 10,
     "metadata": {},
     "output_type": "execute_result"
    }
   ],
   "source": [
    "'''\n",
    "#Q9. What data structure does a shelf value resemble?\n",
    "#Answer: A shelf value resembles a dictionary value; it has keys and values, along with keys() and \n",
    "values() methods that work similarly to the dictionary methods of the same names.\n",
    "'''"
   ]
  },
  {
   "cell_type": "code",
   "execution_count": null,
   "id": "5b3164ef",
   "metadata": {},
   "outputs": [],
   "source": []
  }
 ],
 "metadata": {
  "kernelspec": {
   "display_name": "Python 3 (ipykernel)",
   "language": "python",
   "name": "python3"
  },
  "language_info": {
   "codemirror_mode": {
    "name": "ipython",
    "version": 3
   },
   "file_extension": ".py",
   "mimetype": "text/x-python",
   "name": "python",
   "nbconvert_exporter": "python",
   "pygments_lexer": "ipython3",
   "version": "3.9.7"
  }
 },
 "nbformat": 4,
 "nbformat_minor": 5
}
