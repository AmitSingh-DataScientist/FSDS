{
 "cells": [
  {
   "cell_type": "markdown",
   "id": "00d0a91c",
   "metadata": {},
   "source": [
    "##### Python Basic Assignment 13"
   ]
  },
  {
   "cell_type": "code",
   "execution_count": 1,
   "id": "ae5d32b0",
   "metadata": {},
   "outputs": [],
   "source": [
    "#Q1. What advantages do Excel spreadsheets have over CSV spreadsheets?"
   ]
  },
  {
   "cell_type": "code",
   "execution_count": 2,
   "id": "76ad89d4",
   "metadata": {},
   "outputs": [
    {
     "data": {
      "text/plain": [
       "'\\n#Answer: In Excel, spreadsheets can have values of data types other than strings;cells can have different fonts, sizes, \\nor color settings; cells can have varying widths and heights; adjacent cells can be merged; and you can embed \\nimages and charts\\n'"
      ]
     },
     "execution_count": 2,
     "metadata": {},
     "output_type": "execute_result"
    }
   ],
   "source": [
    "'''\n",
    "#Answer: In Excel, spreadsheets can have values of data types other than strings;cells can have different fonts, sizes, \n",
    "or color settings; cells can have varying widths and heights; adjacent cells can be merged; and we can embed \n",
    "images and charts\n",
    "'''"
   ]
  },
  {
   "cell_type": "code",
   "execution_count": 3,
   "id": "5a37a806",
   "metadata": {},
   "outputs": [],
   "source": [
    "#Q2.What do you pass to csv.reader() and csv.writer() to create reader and writer objects?"
   ]
  },
  {
   "cell_type": "code",
   "execution_count": 4,
   "id": "a3fd13f9",
   "metadata": {},
   "outputs": [],
   "source": [
    "#Answer: We pass a File object, obtained from a call to open()."
   ]
  },
  {
   "cell_type": "code",
   "execution_count": 5,
   "id": "ddabd610",
   "metadata": {},
   "outputs": [],
   "source": [
    "#Q3. What modes do File objects for reader and writer objects need to be opened in?"
   ]
  },
  {
   "cell_type": "code",
   "execution_count": 6,
   "id": "0cf8ce01",
   "metadata": {},
   "outputs": [
    {
     "data": {
      "text/plain": [
       "\"\\n#Answer : File objects need to be opened in read-binary ('rb') for reader objects and write-binary ('wb') for \\nwriter objects.\\n\""
      ]
     },
     "execution_count": 6,
     "metadata": {},
     "output_type": "execute_result"
    }
   ],
   "source": [
    "'''\n",
    "#Answer : File objects need to be opened in read-binary ('rb') for reader objects and write-binary ('wb') for \n",
    "writer objects.\n",
    "'''"
   ]
  },
  {
   "cell_type": "code",
   "execution_count": 7,
   "id": "e1f39b99",
   "metadata": {},
   "outputs": [],
   "source": [
    "#Q4. What method takes a list argument and writes it to a CSV file?"
   ]
  },
  {
   "cell_type": "code",
   "execution_count": 8,
   "id": "9e8a49cf",
   "metadata": {},
   "outputs": [],
   "source": [
    "#Answer: The writerow() method"
   ]
  },
  {
   "cell_type": "code",
   "execution_count": 9,
   "id": "e5feb74e",
   "metadata": {},
   "outputs": [],
   "source": [
    "#Q5. What do the keyword arguments delimiter and line terminator do?"
   ]
  },
  {
   "cell_type": "code",
   "execution_count": 10,
   "id": "b2fa464d",
   "metadata": {},
   "outputs": [
    {
     "data": {
      "text/plain": [
       "'\\n#Answer: The delimiter argument changes the string used to separate cells in a row. The lineterminator argument changes \\nthe string used to separate rows.\\n'"
      ]
     },
     "execution_count": 10,
     "metadata": {},
     "output_type": "execute_result"
    }
   ],
   "source": [
    "'''\n",
    "#Answer: The delimiter argument changes the string used to separate cells in a row. The lineterminator argument changes \n",
    "the string used to separate rows.\n",
    "'''"
   ]
  },
  {
   "cell_type": "code",
   "execution_count": null,
   "id": "1ddd9eb3",
   "metadata": {},
   "outputs": [],
   "source": [
    "#Q6. What function takes a string of JSON data and returns a Python data structure?"
   ]
  },
  {
   "cell_type": "code",
   "execution_count": 11,
   "id": "a452549b",
   "metadata": {},
   "outputs": [],
   "source": [
    "#Answer: We use json.loads()"
   ]
  },
  {
   "cell_type": "code",
   "execution_count": 12,
   "id": "8adfac94",
   "metadata": {},
   "outputs": [],
   "source": [
    "#Q7. What function takes a Python data structure and returns a string of JSON data?"
   ]
  },
  {
   "cell_type": "code",
   "execution_count": 13,
   "id": "16d361f6",
   "metadata": {},
   "outputs": [],
   "source": [
    "#Answer: We use json.dumps()"
   ]
  },
  {
   "cell_type": "code",
   "execution_count": null,
   "id": "832a6b4e",
   "metadata": {},
   "outputs": [],
   "source": []
  }
 ],
 "metadata": {
  "kernelspec": {
   "display_name": "Python 3 (ipykernel)",
   "language": "python",
   "name": "python3"
  },
  "language_info": {
   "codemirror_mode": {
    "name": "ipython",
    "version": 3
   },
   "file_extension": ".py",
   "mimetype": "text/x-python",
   "name": "python",
   "nbconvert_exporter": "python",
   "pygments_lexer": "ipython3",
   "version": "3.9.7"
  }
 },
 "nbformat": 4,
 "nbformat_minor": 5
}
