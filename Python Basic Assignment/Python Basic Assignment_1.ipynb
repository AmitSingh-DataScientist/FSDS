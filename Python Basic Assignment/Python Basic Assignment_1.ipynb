{
 "cells": [
  {
   "cell_type": "markdown",
   "id": "a37fcdd5",
   "metadata": {},
   "source": [
    "# Python Basic Assignment\n",
    "- Assignment 1"
   ]
  },
  {
   "cell_type": "code",
   "execution_count": 2,
   "id": "ea0fcb6d",
   "metadata": {},
   "outputs": [
    {
     "data": {
      "text/plain": [
       "\"Answer : Values: 'hello',-87.8,6\\n        Expression: *,-,/,+\\n\""
      ]
     },
     "execution_count": 2,
     "metadata": {},
     "output_type": "execute_result"
    }
   ],
   "source": [
    "''' Q1. In the below elements which of them are values or an expression? eg:- values can be integer or string and \n",
    "expressions will be mathematical operators.\n",
    "\n",
    "* \n",
    "'hello'\n",
    "-87.8\n",
    "- \n",
    "/ \n",
    "+\n",
    "6 \n",
    "\n",
    "'''\n",
    "\n",
    "\"\"\"Answer : Values: 'hello',-87.8,6\n",
    "        Expression: *,-,/,+\n",
    "\"\"\""
   ]
  },
  {
   "cell_type": "code",
   "execution_count": 3,
   "id": "5485e2bf",
   "metadata": {},
   "outputs": [],
   "source": [
    "#Q2. What is the difference between string and variable?\n",
    "\n",
    "#Answer: String is a datatype of a variable where as vaiable is an object who holds the value to perform operations.\n"
   ]
  },
  {
   "cell_type": "code",
   "execution_count": 4,
   "id": "1d24eb38",
   "metadata": {},
   "outputs": [],
   "source": [
    "#Q3. Describe three different data types.\n",
    "\n",
    "#Answer: int, string and float"
   ]
  },
  {
   "cell_type": "code",
   "execution_count": 5,
   "id": "4b75da71",
   "metadata": {},
   "outputs": [],
   "source": [
    "#Q4. What is an expression made up of? What do all expressions do?\n",
    "\n",
    "#Answer: Expression made up of operators and operands. Expressions produce a new value after performed on operands."
   ]
  },
  {
   "cell_type": "code",
   "execution_count": 6,
   "id": "4233f3ae",
   "metadata": {},
   "outputs": [],
   "source": [
    "#Q5. This assignment statements, like spam = 10. What is the difference between an expression and a statement?\n",
    "\n",
    "#Answer: Expression always returns or produces some value whereas statement may or may not produce or display a result value. "
   ]
  },
  {
   "cell_type": "code",
   "execution_count": 7,
   "id": "ad71f2a3",
   "metadata": {},
   "outputs": [
    {
     "data": {
      "text/plain": [
       "23"
      ]
     },
     "execution_count": 7,
     "metadata": {},
     "output_type": "execute_result"
    }
   ],
   "source": [
    "#Q6. After running the following code, what does the variable bacon contain?\n",
    "bacon = 22\n",
    "bacon + 1\n"
   ]
  },
  {
   "cell_type": "code",
   "execution_count": 8,
   "id": "a6e8c5db",
   "metadata": {},
   "outputs": [],
   "source": [
    "#Answer: 23"
   ]
  },
  {
   "cell_type": "code",
   "execution_count": 9,
   "id": "00bbf91b",
   "metadata": {},
   "outputs": [
    {
     "data": {
      "text/plain": [
       "'spamspamspam'"
      ]
     },
     "execution_count": 9,
     "metadata": {},
     "output_type": "execute_result"
    }
   ],
   "source": [
    "#Q7. What should the values of the following two terms be?\n",
    "'spam' + 'spamspam'\n"
   ]
  },
  {
   "cell_type": "code",
   "execution_count": 10,
   "id": "5ed388c7",
   "metadata": {},
   "outputs": [
    {
     "data": {
      "text/plain": [
       "'spamspamspam'"
      ]
     },
     "execution_count": 10,
     "metadata": {},
     "output_type": "execute_result"
    }
   ],
   "source": [
    "'spam' * 3"
   ]
  },
  {
   "cell_type": "code",
   "execution_count": 11,
   "id": "7dbba046",
   "metadata": {},
   "outputs": [],
   "source": [
    "#Answer: both will be same : 'spamspamspam'"
   ]
  },
  {
   "cell_type": "code",
   "execution_count": 14,
   "id": "5702ac56",
   "metadata": {},
   "outputs": [],
   "source": [
    "#Q8. Why is eggs a valid variable name while 100 is invalid?\n",
    "\n",
    "#Answer: As per varible naming convention in Python, we can't begin the varibale name uisng any number, it should start with any character, _(underscore), followed by number, character or _ "
   ]
  },
  {
   "cell_type": "code",
   "execution_count": 15,
   "id": "59a65580",
   "metadata": {},
   "outputs": [],
   "source": [
    "#Q9. What three functions can be used to get the integer, floating-point number, or string version of a value?\n",
    "\n",
    "#Answer: We can use: int(),float() and str()"
   ]
  },
  {
   "cell_type": "code",
   "execution_count": null,
   "id": "c138dcaa",
   "metadata": {},
   "outputs": [],
   "source": []
  }
 ],
 "metadata": {
  "kernelspec": {
   "display_name": "Python 3",
   "language": "python",
   "name": "python3"
  },
  "language_info": {
   "codemirror_mode": {
    "name": "ipython",
    "version": 3
   },
   "file_extension": ".py",
   "mimetype": "text/x-python",
   "name": "python",
   "nbconvert_exporter": "python",
   "pygments_lexer": "ipython3",
   "version": "3.8.8"
  }
 },
 "nbformat": 4,
 "nbformat_minor": 5
}
