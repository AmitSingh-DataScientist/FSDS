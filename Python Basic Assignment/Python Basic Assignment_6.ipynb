{
 "cells": [
  {
   "cell_type": "markdown",
   "id": "ed23d9fc",
   "metadata": {},
   "source": [
    "### Python Basic Assignment 5"
   ]
  },
  {
   "cell_type": "code",
   "execution_count": 1,
   "id": "71f34a70",
   "metadata": {},
   "outputs": [
    {
     "data": {
      "text/plain": [
       "'\\nAnswer: In python, the backslash \"\" is a special character also called a escape cahracter. It is used to represent \\ncertain whitespace caharacters i.e. \"\\t\" , \"\\n\", \"\\n\" etc.\\n'"
      ]
     },
     "execution_count": 1,
     "metadata": {},
     "output_type": "execute_result"
    }
   ],
   "source": [
    "#Q1. What are escape characters, and how do you use them?\n",
    "'''\n",
    "Answer: In python, the backslash \"\\\" is a special character also called a escape cahracter. It is used to represent \n",
    "certain whitespace caharacters i.e. \"\\t\" , \"\\n\", \"\\n\" etc.\n",
    "'''"
   ]
  },
  {
   "cell_type": "code",
   "execution_count": 2,
   "id": "7046a368",
   "metadata": {},
   "outputs": [],
   "source": [
    "#Q2. What do the escape characters n and t stand for?\n",
    "#Answer: \\n stand for new line whereas \\t stand for tab"
   ]
  },
  {
   "cell_type": "code",
   "execution_count": 3,
   "id": "bb68193e",
   "metadata": {},
   "outputs": [],
   "source": [
    "#Q3. What is the way to include backslash characters in a string?\n",
    "#Answer: We will use \"\\\\\" to include backslash charect in a string"
   ]
  },
  {
   "cell_type": "code",
   "execution_count": 4,
   "id": "26c80bbd",
   "metadata": {},
   "outputs": [
    {
     "data": {
      "text/plain": [
       "'\\n#4. The string \"Howl\\'s Moving Castle\" is a correct value. Why isn\\'t the single quote character in the word Howl\\'s \\nnot escaped a problem?\\n\\n#Answer:the single quote character in the word Howl\\'s will not create a problem because there are\\n\"(double quote) is being used at the beginning and at the end the string\\n\\n'"
      ]
     },
     "execution_count": 4,
     "metadata": {},
     "output_type": "execute_result"
    }
   ],
   "source": [
    "'''\n",
    "#4. The string \"Howl's Moving Castle\" is a correct value. Why isn't the single quote character in the word Howl's \n",
    "not escaped a problem?\n",
    "\n",
    "#Answer:the single quote character in the word Howl's will not create a problem because there are\n",
    "\"(double quote) is being used at the beginning and at the end the string\n",
    "\n",
    "'''"
   ]
  },
  {
   "cell_type": "code",
   "execution_count": 5,
   "id": "b22c98e8",
   "metadata": {},
   "outputs": [],
   "source": [
    "#Q5. How do you write a string of newlines if you don't want to use the n character?\n",
    "#Answer: Multiline string allows us to use newlines in the string with uisng \\n escape character"
   ]
  },
  {
   "cell_type": "code",
   "execution_count": 6,
   "id": "4eee9b4b",
   "metadata": {},
   "outputs": [
    {
     "data": {
      "text/plain": [
       "'lo, world!'"
      ]
     },
     "execution_count": 6,
     "metadata": {},
     "output_type": "execute_result"
    }
   ],
   "source": [
    "#Q6. What are the values of the given expressions?\n",
    "'Hello, world!'[1]\n",
    "'Hello, world!'[0:5]\n",
    "'Hello, world!'[:5]\n",
    "'Hello, world!'[3:]\n",
    "#Answer: \n",
    "# 'e'\n",
    "# 'hello'\n",
    "# 'hello'\n",
    "# 'lo, world!'"
   ]
  },
  {
   "cell_type": "code",
   "execution_count": 7,
   "id": "d6ae9794",
   "metadata": {},
   "outputs": [
    {
     "data": {
      "text/plain": [
       "'e'"
      ]
     },
     "execution_count": 7,
     "metadata": {},
     "output_type": "execute_result"
    }
   ],
   "source": [
    "#Q7. What are the values of the following expressions?\n",
    "'Hello'.upper()\n",
    "'Hello'.upper().isupper()\n",
    "'Hello'.upper().lower()\n",
    "#Answer:\n",
    "# 'HELLO'\n",
    "# True\n",
    "# 'hello'"
   ]
  },
  {
   "cell_type": "code",
   "execution_count": 12,
   "id": "f3522482",
   "metadata": {},
   "outputs": [
    {
     "data": {
      "text/plain": [
       "'There-can-only-one.'"
      ]
     },
     "execution_count": 12,
     "metadata": {},
     "output_type": "execute_result"
    }
   ],
   "source": [
    "\n",
    "#Q8. What are the values of the following expressions? \n",
    "'Remember, remember, the fifth of July.'.split()\n",
    "'-'.join('There can only one.'.split())\n",
    "#Answer ['Remember,', 'remember,', 'the', 'fifth', 'of', 'July.'] & 'There-can-only-one.'\n"
   ]
  },
  {
   "cell_type": "code",
   "execution_count": 13,
   "id": "f83e4033",
   "metadata": {},
   "outputs": [],
   "source": [
    "#Q9. What are the methods for right-justifying, left-justifying, and centering a string?\n",
    "#Answer: We can use  rjust(), ljust(), and center() string methods, respectively for that"
   ]
  },
  {
   "cell_type": "code",
   "execution_count": 14,
   "id": "809d5fb4",
   "metadata": {},
   "outputs": [],
   "source": [
    "#Q10. What is the best way to remove whitespace characters from the start or end?\n",
    "#Answer: We can use lstrip() and rstrip() method to remove whitespace characters from left and right ends of strings."
   ]
  },
  {
   "cell_type": "code",
   "execution_count": null,
   "id": "e803b329",
   "metadata": {},
   "outputs": [],
   "source": []
  }
 ],
 "metadata": {
  "kernelspec": {
   "display_name": "Python 3",
   "language": "python",
   "name": "python3"
  },
  "language_info": {
   "codemirror_mode": {
    "name": "ipython",
    "version": 3
   },
   "file_extension": ".py",
   "mimetype": "text/x-python",
   "name": "python",
   "nbconvert_exporter": "python",
   "pygments_lexer": "ipython3",
   "version": "3.8.8"
  }
 },
 "nbformat": 4,
 "nbformat_minor": 5
}
