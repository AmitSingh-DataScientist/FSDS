{
 "cells": [
  {
   "cell_type": "markdown",
   "id": "a9605896",
   "metadata": {},
   "source": [
    "#### Python Basic Assignment 11"
   ]
  },
  {
   "cell_type": "code",
   "execution_count": 1,
   "id": "f90cf2c2",
   "metadata": {},
   "outputs": [],
   "source": [
    "#Q1. Create an assert statement that throws an AssertionError if the variable spam is a negative integer\n",
    "#Answer : assert spam < 0, 'The spam variable is negative integer.'"
   ]
  },
  {
   "cell_type": "code",
   "execution_count": 2,
   "id": "ade97049",
   "metadata": {},
   "outputs": [
    {
     "data": {
      "text/plain": [
       "\"\\n#Q2. Write an assert statement that triggers an AssertionError if the variables eggs and bacon contain strings \\nthat are the same as each other, even if their cases are different (that is, 'hello' and 'hello' are considered the same, \\nand 'goodbye' and 'GOODbye' are also considered the same).\\n\\n#Answer: We can use either \\nassert eggs.lower() != bacon.lower() 'The eggs and bacon variables are the same!' \\nor \\nassert eggs.upper() != bacon.upper(), 'The eggs and bacon variables are the same!'\\n\""
      ]
     },
     "execution_count": 2,
     "metadata": {},
     "output_type": "execute_result"
    }
   ],
   "source": [
    "'''\n",
    "#Q2. Write an assert statement that triggers an AssertionError if the variables eggs and bacon contain strings \n",
    "that are the same as each other, even if their cases are different (that is, 'hello' and 'hello' are considered the same, \n",
    "and 'goodbye' and 'GOODbye' are also considered the same).\n",
    "\n",
    "#Answer: We can use either \n",
    "assert eggs.lower() != bacon.lower() 'The eggs and bacon variables are the same!' \n",
    "or \n",
    "assert eggs.upper() != bacon.upper(), 'The eggs and bacon variables are the same!'\n",
    "'''"
   ]
  },
  {
   "cell_type": "code",
   "execution_count": 3,
   "id": "84865101",
   "metadata": {},
   "outputs": [],
   "source": [
    "#Q3. Create an assert statement that throws an AssertionError every time.\n",
    "#Answer: We will write as assert False, 'This assertion statement throws an AssertionError every time.'"
   ]
  },
  {
   "cell_type": "code",
   "execution_count": 4,
   "id": "e71a2b03",
   "metadata": {},
   "outputs": [
    {
     "data": {
      "text/plain": [
       "\"\\n#Q4. What are the two lines that must be present in your software in order to call logging.debug()?\\n#Answer: To be able to call logging.debug(), we must have these two lines at the start of your program:\\nimport logging\\nlogging.basicConfig(level=logging.DEBUG, format=' %(asctime)s - %(levelname)s - %(message)s')\\n\""
      ]
     },
     "execution_count": 4,
     "metadata": {},
     "output_type": "execute_result"
    }
   ],
   "source": [
    "'''\n",
    "#Q4. What are the two lines that must be present in your software in order to call logging.debug()?\n",
    "#Answer: To be able to call logging.debug(), we must have these two lines at the start of our program:\n",
    "import logging\n",
    "logging.basicConfig(level=logging.DEBUG, format=' %(asctime)s - %(levelname)s - %(message)s')\n",
    "'''"
   ]
  },
  {
   "cell_type": "code",
   "execution_count": 5,
   "id": "716b0db3",
   "metadata": {},
   "outputs": [
    {
     "data": {
      "text/plain": [
       "\"\\n#Q5. What are the two lines that your program must have in order to have logging.debug() send a logging message \\nto a file named programLog.txt?\\n\\n#Answer: To be able to send logging messages to a file named programLog.txt with logging.debug(), we must have these two lines \\nat the start of our program:\\nimport logging\\nlogging.basicConfig(filename='programLog.txt', level=logging.DEBUG, format=' %(asctime)s - %(levelname)s - %(message)s')\\n\\n\""
      ]
     },
     "execution_count": 5,
     "metadata": {},
     "output_type": "execute_result"
    }
   ],
   "source": [
    "'''\n",
    "#Q5. What are the two lines that your program must have in order to have logging.debug() send a logging message \n",
    "to a file named programLog.txt?\n",
    "\n",
    "#Answer: To be able to send logging messages to a file named programLog.txt with logging.debug(), we must have these two lines \n",
    "at the start of our program:\n",
    "import logging\n",
    "logging.basicConfig(filename='programLog.txt', level=logging.DEBUG, format=' %(asctime)s - %(levelname)s - %(message)s')\n",
    "\n",
    "'''"
   ]
  },
  {
   "cell_type": "code",
   "execution_count": 6,
   "id": "9202a10f",
   "metadata": {},
   "outputs": [],
   "source": [
    "#Q6. What are the five levels of logging?\n",
    "#Answer: It's DEBUG, INFO, WARNING, ERROR, and CRITICAL"
   ]
  },
  {
   "cell_type": "code",
   "execution_count": 7,
   "id": "4ced3fb0",
   "metadata": {},
   "outputs": [],
   "source": [
    "#Q7. What line of code would you add to your software to disable all logging messages?\n",
    "#Answer: We will add logging.disable(logging.CRITICAL)"
   ]
  },
  {
   "cell_type": "code",
   "execution_count": 8,
   "id": "f97d12b9",
   "metadata": {},
   "outputs": [
    {
     "data": {
      "text/plain": [
       "'\\n#Q8.Why is using logging messages better than using print() to display the same message?\\n#Answer: We can disable logging messages without removing the logging function calls. We can selectively disable lower-level \\nlogging messages. We can also create logging messages. Logging messages provides a timestamp.\\n'"
      ]
     },
     "execution_count": 8,
     "metadata": {},
     "output_type": "execute_result"
    }
   ],
   "source": [
    "'''\n",
    "#Q8.Why is using logging messages better than using print() to display the same message?\n",
    "#Answer: We can disable logging messages without removing the logging function calls. We can selectively disable lower-level \n",
    "logging messages. We can also create logging messages. Logging messages provides a timestamp.\n",
    "'''"
   ]
  },
  {
   "cell_type": "code",
   "execution_count": 9,
   "id": "731af08a",
   "metadata": {},
   "outputs": [
    {
     "data": {
      "text/plain": [
       "'\\n#Q9. What are the differences between the Step Over, Step In, and Step Out buttons in the debugger?\\n#Answer: The Step In button will move the debugger into a function call. \\nThe Step Over button will quickly execute the function call without stepping into it. \\nThe Step Out button will quickly execute the rest of the code until it steps out of the function it currently is in.\\n'"
      ]
     },
     "execution_count": 9,
     "metadata": {},
     "output_type": "execute_result"
    }
   ],
   "source": [
    "'''\n",
    "#Q9. What are the differences between the Step Over, Step In, and Step Out buttons in the debugger?\n",
    "#Answer: The Step In button will move the debugger into a function call. \n",
    "The Step Over button will quickly execute the function call without stepping into it. \n",
    "The Step Out button will quickly execute the rest of the code until it steps out of the function it currently is in.\n",
    "'''"
   ]
  },
  {
   "cell_type": "code",
   "execution_count": 10,
   "id": "afaec4c7",
   "metadata": {},
   "outputs": [],
   "source": [
    "#Q10.After you click Continue, when will the debugger stop ?\n",
    "#Answer: After We click Continue,the debugger will stop when it has reached the end of the program or a line with a breakpoint."
   ]
  },
  {
   "cell_type": "code",
   "execution_count": 11,
   "id": "f4873e9b",
   "metadata": {},
   "outputs": [],
   "source": [
    "#Q11. What is the concept of a breakpoint?\n",
    "#Answer:A breakpoint is a setting on a line of code that causes the debugger to pause when the program execution reaches the line"
   ]
  },
  {
   "cell_type": "code",
   "execution_count": null,
   "id": "11513e4e",
   "metadata": {},
   "outputs": [],
   "source": []
  }
 ],
 "metadata": {
  "kernelspec": {
   "display_name": "Python 3 (ipykernel)",
   "language": "python",
   "name": "python3"
  },
  "language_info": {
   "codemirror_mode": {
    "name": "ipython",
    "version": 3
   },
   "file_extension": ".py",
   "mimetype": "text/x-python",
   "name": "python",
   "nbconvert_exporter": "python",
   "pygments_lexer": "ipython3",
   "version": "3.9.7"
  }
 },
 "nbformat": 4,
 "nbformat_minor": 5
}
