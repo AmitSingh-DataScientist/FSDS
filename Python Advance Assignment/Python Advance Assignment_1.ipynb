{
 "cells": [
  {
   "cell_type": "markdown",
   "id": "e452b462",
   "metadata": {},
   "source": [
    "## Python Advance Assignment - 1"
   ]
  },
  {
   "cell_type": "markdown",
   "id": "95c22f6b",
   "metadata": {},
   "source": [
    "Q1. What is the purpose of Python's OOP?"
   ]
  },
  {
   "cell_type": "markdown",
   "id": "488b969a",
   "metadata": {},
   "source": [
    "It aims to implement real-world entities like inheritance, polymorphisms, encapsulation, etc. in the programmingm"
   ]
  },
  {
   "cell_type": "markdown",
   "id": "615e6bb3",
   "metadata": {},
   "source": [
    "Q2. Where does an inheritance search look for an attribute?"
   ]
  },
  {
   "cell_type": "markdown",
   "id": "11392e3e",
   "metadata": {},
   "source": [
    "In Python, inheritance happens when an object is qualified, and involves searching an attribute definition tree (one or more namespaces). Every time we use an expression of the form object."
   ]
  },
  {
   "cell_type": "markdown",
   "id": "f42d88bd",
   "metadata": {},
   "source": [
    "Q3. How do you distinguish between a class object and an instance object?"
   ]
  },
  {
   "cell_type": "markdown",
   "id": "d47fb5af",
   "metadata": {},
   "source": [
    "A class is a template for creating objects in program. The object is an instance of a class.\n",
    "A class is a logical entity. Object is a physical entity\n",
    "A class does not allocate memory space when it is created. Object allocates memory space whenever they are created."
   ]
  },
  {
   "cell_type": "markdown",
   "id": "a353f702",
   "metadata": {},
   "source": [
    "Q4. What makes the first argument in a class’s method function special?"
   ]
  },
  {
   "cell_type": "markdown",
   "id": "f193be2c",
   "metadata": {},
   "source": [
    "The first argument of every class method, including init, is always a reference to the current instance of the class. By convention, this argument is always named self. In the init method, self refers to the newly created object."
   ]
  },
  {
   "cell_type": "markdown",
   "id": "3c1bb00c",
   "metadata": {},
   "source": [
    "Q5. What is the purpose of the __init__ method?"
   ]
  },
  {
   "cell_type": "markdown",
   "id": "67436a7a",
   "metadata": {},
   "source": [
    "The __init__ method is similar to constructors. Constructors are used to initialize the object's state. The task of constructors is to initialize(assign values) to the data members of the class when an object of class is created"
   ]
  },
  {
   "cell_type": "markdown",
   "id": "76c89fb0",
   "metadata": {},
   "source": [
    "Q6. What is the process for creating a class instance?"
   ]
  },
  {
   "cell_type": "markdown",
   "id": "522fd3c4",
   "metadata": {},
   "source": [
    "To create instances of a class, we call the class using class name and pass in whatever arguments its __init__ method accepts"
   ]
  },
  {
   "cell_type": "markdown",
   "id": "92f301a2",
   "metadata": {},
   "source": [
    "Q7. What is the process for creating a class?"
   ]
  },
  {
   "cell_type": "markdown",
   "id": "fe6a0d5e",
   "metadata": {},
   "source": [
    "In Python, a class can be created by using the keyword class, followed by the class name"
   ]
  },
  {
   "cell_type": "markdown",
   "id": "19a2790a",
   "metadata": {},
   "source": [
    "Q8. How would you define the superclasses of a class?"
   ]
  },
  {
   "cell_type": "markdown",
   "id": "6dda9a11",
   "metadata": {},
   "source": [
    "A superclass is the class from which many subclasses can be created. The subclasses inherit the characteristics of a superclass. The superclass is also known as the parent class or base class."
   ]
  },
  {
   "cell_type": "code",
   "execution_count": null,
   "id": "acd9d265",
   "metadata": {},
   "outputs": [],
   "source": []
  }
 ],
 "metadata": {
  "kernelspec": {
   "display_name": "Python 3 (ipykernel)",
   "language": "python",
   "name": "python3"
  },
  "language_info": {
   "codemirror_mode": {
    "name": "ipython",
    "version": 3
   },
   "file_extension": ".py",
   "mimetype": "text/x-python",
   "name": "python",
   "nbconvert_exporter": "python",
   "pygments_lexer": "ipython3",
   "version": "3.9.7"
  }
 },
 "nbformat": 4,
 "nbformat_minor": 5
}
