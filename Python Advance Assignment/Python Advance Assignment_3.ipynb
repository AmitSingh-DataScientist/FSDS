{
 "cells": [
  {
   "cell_type": "markdown",
   "id": "95b1735b",
   "metadata": {},
   "source": [
    "## Python Advance Assignment - 3"
   ]
  },
  {
   "cell_type": "markdown",
   "id": "b1becd69",
   "metadata": {},
   "source": [
    "1. What is the concept of an abstract superclass?"
   ]
  },
  {
   "cell_type": "markdown",
   "id": "17e7a79b",
   "metadata": {},
   "source": [
    "An abstract superclass is one way to provide re-usable code. You can extend the abstract class and inherit the code. This is sometimes more convenient than using static methods or object composition to share code. "
   ]
  },
  {
   "cell_type": "markdown",
   "id": "b4fede2a",
   "metadata": {},
   "source": [
    "2. What happens when a class statement's top level contains a basic assignment statement?"
   ]
  },
  {
   "cell_type": "markdown",
   "id": "a080bfa1",
   "metadata": {},
   "source": [
    "A class variable will be created. Class variables are declared when a class is being constructed. They are not defined inside any methods of a class because of this only one copy of the static variable will be created and shared between all objects of the class."
   ]
  },
  {
   "cell_type": "markdown",
   "id": "fd093e7c",
   "metadata": {},
   "source": [
    "3. Why does a class need to manually call a superclass's __init__ method?"
   ]
  },
  {
   "cell_type": "markdown",
   "id": "c758149b",
   "metadata": {},
   "source": [
    "The main reason for always calling base class __init__ is that base class may typically create member variable and initialize them to defaults. So if you don't call base class init, none of that code would be executed and you would end up with base class that has no member variables."
   ]
  },
  {
   "cell_type": "markdown",
   "id": "32dbcfeb",
   "metadata": {},
   "source": [
    "4. How can you augment, instead of completely replacing, an inherited method?"
   ]
  },
  {
   "cell_type": "code",
   "execution_count": null,
   "id": "09886715",
   "metadata": {},
   "outputs": [],
   "source": [
    "class Manager(Person):\n",
    "\n",
    "    def giveRaise(self, percent, bonus=.10):\n",
    "    \n",
    "        Person.giveRaise(self, percent + bonus) # Good: augment original"
   ]
  },
  {
   "cell_type": "markdown",
   "id": "d530643b",
   "metadata": {},
   "source": [
    "5. How is the local scope of a class different from that of a function?"
   ]
  },
  {
   "cell_type": "markdown",
   "id": "f20b8fe5",
   "metadata": {},
   "source": [
    "Local scope is the area between an { and it's closing }. Function scope is the area between the opening { of a function and its closing }, which may contain more \"local\" scopes. A label is visible in the entirety of the function within which it is defined, e.g. int c is not visible outside its enclosing block"
   ]
  },
  {
   "cell_type": "code",
   "execution_count": null,
   "id": "a8ec7b83",
   "metadata": {},
   "outputs": [],
   "source": []
  }
 ],
 "metadata": {
  "kernelspec": {
   "display_name": "Python 3 (ipykernel)",
   "language": "python",
   "name": "python3"
  },
  "language_info": {
   "codemirror_mode": {
    "name": "ipython",
    "version": 3
   },
   "file_extension": ".py",
   "mimetype": "text/x-python",
   "name": "python",
   "nbconvert_exporter": "python",
   "pygments_lexer": "ipython3",
   "version": "3.9.7"
  }
 },
 "nbformat": 4,
 "nbformat_minor": 5
}
