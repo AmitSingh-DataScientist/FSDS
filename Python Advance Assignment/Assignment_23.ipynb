{
 "cells": [
  {
   "cell_type": "markdown",
   "id": "4f088515",
   "metadata": {},
   "source": [
    "# Q1. If you have any, what are your choices for increasing the comparison between different figures on the same graph?"
   ]
  },
  {
   "cell_type": "code",
   "execution_count": 1,
   "id": "5ab13645",
   "metadata": {},
   "outputs": [],
   "source": [
    "# Ans : Bar charts are good for comparisons, while line charts work better for trends. Scatter plot charts are good\n",
    "#       for relationships and distributions, but pie charts should be used only for simple compositions — never for \n",
    "#       comparisons or distributions."
   ]
  },
  {
   "cell_type": "markdown",
   "id": "1cde9e64",
   "metadata": {},
   "source": [
    "# Q2. Can you explain the benefit of compound interest over a higher rate of interest that does not compound after reading this chapter?"
   ]
  },
  {
   "cell_type": "code",
   "execution_count": 2,
   "id": "5e3aa9c7",
   "metadata": {},
   "outputs": [],
   "source": [
    "# Ans : Compound interest makes your money grow faster because interest is calculated on the accumulated interest \n",
    "#       over time as well as on your original principal. Compounding can create a snowball effect, as the original\n",
    "#       investments plus the income earned from those investments grow together."
   ]
  },
  {
   "cell_type": "markdown",
   "id": "c6793c1b",
   "metadata": {},
   "source": [
    "# Q3. What is a histogram, exactly? Name a numpy method for creating such a graph."
   ]
  },
  {
   "cell_type": "code",
   "execution_count": 3,
   "id": "23a51402",
   "metadata": {},
   "outputs": [],
   "source": [
    "# Ans : Histogram is a type of a plot which hold the total number of counts or the percentile value in y-axis w.r.t.\n",
    "#       corresponding x-variables. When we say the number of counts it means that for a particular range in x-axis\n",
    "#       what will be the number of counts of the data points. When we talk about percentile it shows the probability\n",
    "#       occurrence of the x-variable or what percentage of data are below that particular percetile value w.r.t.\n",
    "#       particular x-variable range. Numpy has a built-in numpy. histogram() function."
   ]
  },
  {
   "cell_type": "markdown",
   "id": "c31cf9f0",
   "metadata": {},
   "source": [
    "# Q4. If necessary, how do you change the aspect ratios between the X and Y axes?"
   ]
  },
  {
   "cell_type": "code",
   "execution_count": 4,
   "id": "57efcf6d",
   "metadata": {},
   "outputs": [
    {
     "ename": "NameError",
     "evalue": "name 'figure' is not defined",
     "output_type": "error",
     "traceback": [
      "\u001b[1;31m---------------------------------------------------------------------------\u001b[0m",
      "\u001b[1;31mNameError\u001b[0m                                 Traceback (most recent call last)",
      "Input \u001b[1;32mIn [4]\u001b[0m, in \u001b[0;36m<cell line: 3>\u001b[1;34m()\u001b[0m\n\u001b[0;32m      1\u001b[0m \u001b[38;5;66;03m# Ans : We can use figure(figsize=(10,8)) function inside the matplot.pyplot library which we scale \u001b[39;00m\n\u001b[0;32m      2\u001b[0m \u001b[38;5;66;03m#       down or up the graph.\u001b[39;00m\n\u001b[1;32m----> 3\u001b[0m \u001b[43mfigure\u001b[49m(figsize\u001b[38;5;241m=\u001b[39m(\u001b[38;5;241m10\u001b[39m,\u001b[38;5;241m8\u001b[39m))\n",
      "\u001b[1;31mNameError\u001b[0m: name 'figure' is not defined"
     ]
    }
   ],
   "source": [
    "# Ans : We can use figure(figsize=(10,8)) function inside the matplot.pyplot library which we scale \n",
    "#       down or up the graph.\n",
    "figure(figsize=(10,8))"
   ]
  },
  {
   "cell_type": "markdown",
   "id": "0f410fe7",
   "metadata": {},
   "source": [
    "# Q5. Compare and contrast the three types of array multiplication between two numpy arrays: dot product, outer product, and regular multiplication of two numpy arrays."
   ]
  },
  {
   "cell_type": "code",
   "execution_count": null,
   "id": "d0ac1216",
   "metadata": {},
   "outputs": [],
   "source": [
    "# Ans : \n",
    "import numpy as np"
   ]
  },
  {
   "cell_type": "code",
   "execution_count": null,
   "id": "481c0a19",
   "metadata": {},
   "outputs": [],
   "source": [
    "a1=np.array([[1,2,3],[4,5,6],[6,7,8]])\n",
    "a2=np.array([[10,20,30],[40,50,60],[60,70,80]])\n",
    "\n",
    "# suppose above are the two arrays of shape 3 x 3"
   ]
  },
  {
   "cell_type": "code",
   "execution_count": null,
   "id": "f882c2e7",
   "metadata": {},
   "outputs": [],
   "source": [
    "print(a1)\n",
    "print()\n",
    "print(a2)"
   ]
  },
  {
   "cell_type": "code",
   "execution_count": null,
   "id": "bd4fd5a9",
   "metadata": {},
   "outputs": [],
   "source": [
    "#standard multiplication\n",
    "a1*a2"
   ]
  },
  {
   "cell_type": "code",
   "execution_count": null,
   "id": "c4ddfd4a",
   "metadata": {},
   "outputs": [],
   "source": [
    "# When we do standard multiplication in that case values of the same indexes in the array will get multiply. \n",
    "# Like in above example. A1(i,j) x A2(i,j)\n",
    "# dot product\n",
    "np.dot(a1,a2)"
   ]
  },
  {
   "cell_type": "code",
   "execution_count": null,
   "id": "8b3ce5fe",
   "metadata": {},
   "outputs": [],
   "source": [
    "# In case of dot product vector, multiplication will take place between row of first array and column of secodn array \n",
    "# .respectively. Like first row of array a1 will be multiply by column value of array a2 one by one and then added.\n",
    "#outer multiplication\n",
    "np.outer(a1,a2)"
   ]
  },
  {
   "cell_type": "code",
   "execution_count": null,
   "id": "f3339cd2",
   "metadata": {},
   "outputs": [],
   "source": [
    "# In outer multiplication every element of first array a1 will be multiply by every element of other array a2 such \n",
    "# such the number of columns will be equal to the number of element in another array a2."
   ]
  },
  {
   "cell_type": "markdown",
   "id": "552cf86d",
   "metadata": {},
   "source": [
    "# Q6. Before you buy a home, which numpy function will you use to measure your monthly mortgage payment?"
   ]
  },
  {
   "cell_type": "code",
   "execution_count": null,
   "id": "d1405088",
   "metadata": {},
   "outputs": [],
   "source": [
    "# Ans : np.pmt(rate, nper, pv) function we will be using in order to calculate monthly mortgage payment before\n",
    "#       you purchase a house\n",
    "#       rate = The periodic interest rate\n",
    "#       nper = The number of payment periods\n",
    "#       pv = The total value of the mortgage loan"
   ]
  },
  {
   "cell_type": "markdown",
   "id": "1672f93d",
   "metadata": {},
   "source": [
    "# Q7. Can string data be stored in numpy arrays? If so, list at least one restriction that applies to this data."
   ]
  },
  {
   "cell_type": "code",
   "execution_count": null,
   "id": "ad96f32f",
   "metadata": {},
   "outputs": [],
   "source": [
    "# Ans : Yes an array can store the string.The limitation which imposed on the string data is, whenever we store the\n",
    "#       data of string dtype then it should should keep in mind that the string which is having the maximum length is\n",
    "#       the limit.\n",
    "#       The dtype value is the maximum length of a string in such data. Meaning suppose if any new string we wanted \n",
    "#       to add, then we can add only that string which have the length either equal to that dtype value or less than\n",
    "#       that. If any string which are adding and if its length is more than the dtype value then it will only accpet \n",
    "#        to maximum length and rest of the characters will not be included."
   ]
  }
 ],
 "metadata": {
  "kernelspec": {
   "display_name": "Python 3 (ipykernel)",
   "language": "python",
   "name": "python3"
  },
  "language_info": {
   "codemirror_mode": {
    "name": "ipython",
    "version": 3
   },
   "file_extension": ".py",
   "mimetype": "text/x-python",
   "name": "python",
   "nbconvert_exporter": "python",
   "pygments_lexer": "ipython3",
   "version": "3.9.12"
  }
 },
 "nbformat": 4,
 "nbformat_minor": 5
}
