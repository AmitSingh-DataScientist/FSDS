{
 "cells": [
  {
   "cell_type": "markdown",
   "id": "affd767a",
   "metadata": {},
   "source": [
    "## Python Advance Assignment - 4"
   ]
  },
  {
   "cell_type": "markdown",
   "id": "1dbff9cd",
   "metadata": {},
   "source": [
    "Q1. Which two operator overloading methods can you use in your classes to support iteration?"
   ]
  },
  {
   "cell_type": "markdown",
   "id": "2943e4b8",
   "metadata": {},
   "source": [
    "We will use The __iter__  and The __next__ operator overloading methods which support iteration"
   ]
  },
  {
   "cell_type": "markdown",
   "id": "d774894f",
   "metadata": {},
   "source": [
    "Q2. In what contexts do the two operator overloading methods manage printing?"
   ]
  },
  {
   "cell_type": "markdown",
   "id": "7fc09400",
   "metadata": {},
   "source": [
    "We can use operator<< and display() overloading methods manage printing"
   ]
  },
  {
   "cell_type": "markdown",
   "id": "65f2c6e7",
   "metadata": {},
   "source": [
    "Q3. In a class, how do you intercept slice operations?"
   ]
  },
  {
   "cell_type": "markdown",
   "id": "5a460f0e",
   "metadata": {},
   "source": [
    "\"setslice\" and \"delslice\" are deprecated, if you want to do the interception you need to work with python slice objects passed to \"setitem\" and \"delitem\""
   ]
  },
  {
   "cell_type": "markdown",
   "id": "90c57189",
   "metadata": {},
   "source": [
    "Q4. In a class, how do you capture in-place addition?"
   ]
  },
  {
   "cell_type": "markdown",
   "id": "05867a03",
   "metadata": {},
   "source": [
    "In-place operation is an operation that changes directly the content of a given linear algebra, vector, matrices(Tensor) without making a copy. The operators which helps to do the operation is called in-place operator."
   ]
  },
  {
   "cell_type": "markdown",
   "id": "208c4eb2",
   "metadata": {},
   "source": [
    "Q5. When is it appropriate to use operator overloading?"
   ]
  },
  {
   "cell_type": "markdown",
   "id": "58b26f23",
   "metadata": {},
   "source": [
    "The purpose of operator overloading is to provide a special meaning of an operator for a user-defined data type.We can also use operator overloading to perform different operations using one operator."
   ]
  },
  {
   "cell_type": "code",
   "execution_count": null,
   "id": "ad1ab120",
   "metadata": {},
   "outputs": [],
   "source": []
  }
 ],
 "metadata": {
  "kernelspec": {
   "display_name": "Python 3 (ipykernel)",
   "language": "python",
   "name": "python3"
  },
  "language_info": {
   "codemirror_mode": {
    "name": "ipython",
    "version": 3
   },
   "file_extension": ".py",
   "mimetype": "text/x-python",
   "name": "python",
   "nbconvert_exporter": "python",
   "pygments_lexer": "ipython3",
   "version": "3.9.7"
  }
 },
 "nbformat": 4,
 "nbformat_minor": 5
}
