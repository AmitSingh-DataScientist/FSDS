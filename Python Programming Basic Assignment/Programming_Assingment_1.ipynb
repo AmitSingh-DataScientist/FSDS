{
 "cells": [
  {
   "cell_type": "markdown",
   "id": "ded188b7",
   "metadata": {},
   "source": [
    "### Python Programming Basic Assignment -1"
   ]
  },
  {
   "cell_type": "code",
   "execution_count": null,
   "id": "645ee006",
   "metadata": {},
   "outputs": [],
   "source": [
    "# Q1. Write a Python program to print \"Hello Python\"?"
   ]
  },
  {
   "cell_type": "code",
   "execution_count": 1,
   "id": "8e7e76a7",
   "metadata": {},
   "outputs": [
    {
     "name": "stdout",
     "output_type": "stream",
     "text": [
      "Hello Python\n"
     ]
    }
   ],
   "source": [
    "#Ans:\n",
    "print(\"Hello Python\")"
   ]
  },
  {
   "cell_type": "code",
   "execution_count": null,
   "id": "6e1a23f4",
   "metadata": {},
   "outputs": [],
   "source": [
    "# Q2. Write a Python program to do C and division.?"
   ]
  },
  {
   "cell_type": "code",
   "execution_count": 2,
   "id": "378db8a2",
   "metadata": {},
   "outputs": [
    {
     "name": "stdout",
     "output_type": "stream",
     "text": [
      "The arithmetical operations addition is :  16\n",
      "The arithmetical operations division is:  1.6666666666666667\n"
     ]
    }
   ],
   "source": [
    "# Ans : \n",
    "a=10\n",
    "b=6\n",
    "c=a+b\n",
    "d=a/b\n",
    "print(\"The arithmetical operations addition is : \",c)\n",
    "print(\"The arithmetical operations division is: \",d)"
   ]
  },
  {
   "cell_type": "code",
   "execution_count": null,
   "id": "aeac7ea6",
   "metadata": {},
   "outputs": [],
   "source": [
    "# Q3. Write a Python program to find the area of a triangle?"
   ]
  },
  {
   "cell_type": "code",
   "execution_count": 3,
   "id": "fc55303d",
   "metadata": {},
   "outputs": [
    {
     "name": "stdout",
     "output_type": "stream",
     "text": [
      "Area of a triangle is:  100.0\n"
     ]
    }
   ],
   "source": [
    "# Ans:\n",
    "b = 10\n",
    "h = 20\n",
    "A = 1/2*b*h\n",
    "print(\"Area of a triangle is: \",A)"
   ]
  },
  {
   "cell_type": "code",
   "execution_count": null,
   "id": "366213bb",
   "metadata": {},
   "outputs": [],
   "source": [
    "# Q4.Write a Python program to swap two variables?"
   ]
  },
  {
   "cell_type": "code",
   "execution_count": 6,
   "id": "e02426e0",
   "metadata": {},
   "outputs": [
    {
     "name": "stdout",
     "output_type": "stream",
     "text": [
      "Original Value of a is :  [1, 2, 3]\n",
      "Original Value of b is :  [4, 5, 6]\n",
      "After Swap value of a is :  [4, 5, 6]\n",
      "After Swap  value of b is :  [1, 2, 3]\n"
     ]
    }
   ],
   "source": [
    "# Ans :\n",
    "a= [1,2,3]\n",
    "print(\"Original Value of a is : \", a)\n",
    "b= [4,5,6]\n",
    "print(\"Original Value of b is : \", b)\n",
    "c=b.copy()\n",
    "b=a\n",
    "a=c\n",
    "print(\"After Swap value of a is : \", a)\n",
    "print(\"After Swap  value of b is : \", b)"
   ]
  },
  {
   "cell_type": "code",
   "execution_count": null,
   "id": "d69e21b0",
   "metadata": {},
   "outputs": [],
   "source": [
    "# Q5.Write a Python program to generate a random number?"
   ]
  },
  {
   "cell_type": "code",
   "execution_count": 8,
   "id": "e027e5cc",
   "metadata": {},
   "outputs": [
    {
     "name": "stdout",
     "output_type": "stream",
     "text": [
      "4\n"
     ]
    }
   ],
   "source": [
    "# Ans :\n",
    "import random\n",
    "print(random.randint(0,9))"
   ]
  },
  {
   "cell_type": "code",
   "execution_count": null,
   "id": "5ef03501",
   "metadata": {},
   "outputs": [],
   "source": []
  }
 ],
 "metadata": {
  "kernelspec": {
   "display_name": "Python 3 (ipykernel)",
   "language": "python",
   "name": "python3"
  },
  "language_info": {
   "codemirror_mode": {
    "name": "ipython",
    "version": 3
   },
   "file_extension": ".py",
   "mimetype": "text/x-python",
   "name": "python",
   "nbconvert_exporter": "python",
   "pygments_lexer": "ipython3",
   "version": "3.9.7"
  }
 },
 "nbformat": 4,
 "nbformat_minor": 5
}
