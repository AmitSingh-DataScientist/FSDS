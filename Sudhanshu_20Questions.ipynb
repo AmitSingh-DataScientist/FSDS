{
 "cells": [
  {
   "cell_type": "markdown",
   "id": "f8cb789a",
   "metadata": {},
   "source": [
    "# Sudhanshu's 20 Question's & Their Answers"
   ]
  },
  {
   "cell_type": "code",
   "execution_count": 43,
   "id": "52fcd1d7",
   "metadata": {},
   "outputs": [],
   "source": [
    "#Q1. Write a fun which will take string and return a len of it without using a inbuilt fun len\n",
    "def test(s):\n",
    "    count=0\n",
    "    if type(s)==str:\n",
    "        for i in s:\n",
    "            count=count+1\n",
    "        return count\n",
    "    else:\n",
    "        print(\"The input is not String\")"
   ]
  },
  {
   "cell_type": "code",
   "execution_count": 44,
   "id": "3765d83d",
   "metadata": {},
   "outputs": [
    {
     "data": {
      "text/plain": [
       "15"
      ]
     },
     "execution_count": 44,
     "metadata": {},
     "output_type": "execute_result"
    }
   ],
   "source": [
    "test(\"sudhanshu kumar\")"
   ]
  },
  {
   "cell_type": "code",
   "execution_count": 45,
   "id": "b6769993",
   "metadata": {},
   "outputs": [],
   "source": [
    "#Q2. Write a fun which will be able to print an index of all premitive element which you will pass \n",
    "def test1(a):\n",
    "    l=[]\n",
    "    if type(a)!=int:\n",
    "        for i in range(len(a)):\n",
    "            l.append(i)\n",
    "        return l\n",
    "    else:\n",
    "        print(\"Your input is Interger\")"
   ]
  },
  {
   "cell_type": "code",
   "execution_count": 46,
   "id": "6171a88e",
   "metadata": {},
   "outputs": [
    {
     "data": {
      "text/plain": [
       "[0, 1, 2, 3, 4, 5, 6]"
      ]
     },
     "execution_count": 46,
     "metadata": {},
     "output_type": "execute_result"
    }
   ],
   "source": [
    "test1(\"ineuron\")"
   ]
  },
  {
   "cell_type": "code",
   "execution_count": 57,
   "id": "2df507a2",
   "metadata": {},
   "outputs": [],
   "source": [
    "#Q3. Write a fun which will take input as a dict and give me out as a list of all the values even in case of 2 level nesting it should work\n",
    "def test2(d):\n",
    "    if type(d)==dict:\n",
    "        l=[]\n",
    "        for i in d.values():\n",
    "            l.append(i)\n",
    "        return l\n",
    "    else:\n",
    "        print(\"Your input is not a Dictionary\")"
   ]
  },
  {
   "cell_type": "code",
   "execution_count": 58,
   "id": "3d28cec0",
   "metadata": {},
   "outputs": [],
   "source": [
    "c={'a':34,'b': 54,'c' : \"sudh\",'d':\"Ineuron\"}"
   ]
  },
  {
   "cell_type": "code",
   "execution_count": 59,
   "id": "99b111aa",
   "metadata": {},
   "outputs": [
    {
     "data": {
      "text/plain": [
       "[34, 54, 'sudh', 'Ineuron']"
      ]
     },
     "execution_count": 59,
     "metadata": {},
     "output_type": "execute_result"
    }
   ],
   "source": [
    "test2(c)"
   ]
  },
  {
   "cell_type": "code",
   "execution_count": 60,
   "id": "e2416900",
   "metadata": {},
   "outputs": [],
   "source": [
    "z={'a':34,'b': 54,'c' : \"sudh\",'d':\"Ineuron\",\"Course\":{'e':\"FSDS\",\"f\":70}}"
   ]
  },
  {
   "cell_type": "code",
   "execution_count": 61,
   "id": "05e18df5",
   "metadata": {},
   "outputs": [
    {
     "data": {
      "text/plain": [
       "[34, 54, 'sudh', 'Ineuron', {'e': 'FSDS', 'f': 70}]"
      ]
     },
     "execution_count": 61,
     "metadata": {},
     "output_type": "execute_result"
    }
   ],
   "source": [
    "test2(z)"
   ]
  },
  {
   "cell_type": "code",
   "execution_count": 62,
   "id": "c8287162",
   "metadata": {},
   "outputs": [],
   "source": [
    "#Q4. Write a fun which will take another function as an input and return me an output\n",
    "def add1(a):\n",
    "    return (a+1)"
   ]
  },
  {
   "cell_type": "code",
   "execution_count": 63,
   "id": "d8be06d5",
   "metadata": {},
   "outputs": [],
   "source": [
    "def add2(c):\n",
    "    return (c+3)"
   ]
  },
  {
   "cell_type": "code",
   "execution_count": 65,
   "id": "84623d86",
   "metadata": {},
   "outputs": [
    {
     "data": {
      "text/plain": [
       "14"
      ]
     },
     "execution_count": 65,
     "metadata": {},
     "output_type": "execute_result"
    }
   ],
   "source": [
    "add1(add2(10))"
   ]
  },
  {
   "cell_type": "code",
   "execution_count": 66,
   "id": "ca739921",
   "metadata": {},
   "outputs": [],
   "source": [
    "#Q5. Write a function whihc will take multiple list as a input and give me concatnation of all the element as an output\n",
    "#First Method\n",
    "def mul_list(l1,l2):\n",
    "    l=[]\n",
    "    l3=[]\n",
    "    l4=[]\n",
    "    if type(l1)==list and type(l2)==list:\n",
    "        for i in l1:\n",
    "            l.append(i)\n",
    "        for j in l2:\n",
    "            l3.append(j)\n",
    "        l4=l+l3\n",
    "        return l4\n",
    "            \n"
   ]
  },
  {
   "cell_type": "code",
   "execution_count": 67,
   "id": "4b8524b9",
   "metadata": {},
   "outputs": [
    {
     "data": {
      "text/plain": [
       "[1, 2, 3, 4, 2, 3, 4, 5]"
      ]
     },
     "execution_count": 67,
     "metadata": {},
     "output_type": "execute_result"
    }
   ],
   "source": [
    "mul_list([1,2,3,4],[2,3,4,5])"
   ]
  },
  {
   "cell_type": "code",
   "execution_count": 72,
   "id": "b9a97fd3",
   "metadata": {},
   "outputs": [],
   "source": [
    "#Second Method:\n",
    "def mul_list(l1,l2):\n",
    "    if type(l1)==list and type(l2)==list:\n",
    "        l1=l1+l2\n",
    "    return l1"
   ]
  },
  {
   "cell_type": "code",
   "execution_count": 73,
   "id": "5e986acb",
   "metadata": {},
   "outputs": [
    {
     "data": {
      "text/plain": [
       "[1, 2, 3, 4, 2, 3, 4, 5]"
      ]
     },
     "execution_count": 73,
     "metadata": {},
     "output_type": "execute_result"
    }
   ],
   "source": [
    "mul_list([1,2,3,4],[2,3,4,5])"
   ]
  },
  {
   "cell_type": "code",
   "execution_count": 74,
   "id": "201091ef",
   "metadata": {},
   "outputs": [],
   "source": [
    "#Q6. Write a function which will be able to take a list as an input return an index of each element like a inbuilt index function but even if we have repetative element it should return index\n",
    "def test4(a):\n",
    "    l=[]\n",
    "    if type(a)==list:\n",
    "        for i in range(len(a)):\n",
    "            l.append(i)\n",
    "        return l "
   ]
  },
  {
   "cell_type": "code",
   "execution_count": 76,
   "id": "93d6dbc5",
   "metadata": {},
   "outputs": [
    {
     "data": {
      "text/plain": [
       "[0, 1, 2, 3, 4, 5, 6, 7]"
      ]
     },
     "execution_count": 76,
     "metadata": {},
     "output_type": "execute_result"
    }
   ],
   "source": [
    "test4([1,2,3,4,\"sudh\",1,2,3])"
   ]
  },
  {
   "cell_type": "code",
   "execution_count": 98,
   "id": "f93923dd",
   "metadata": {},
   "outputs": [],
   "source": [
    "#Q7. Write a function which will whould return list of all the file name from a directory. \n",
    "def test5(dir_list):\n",
    "    import os\n",
    "    path = \"C:\"\n",
    "    dir_list = os.listdir(path)\n",
    "    print(\"Files and directories in '\", path, \"' :\")\n",
    "    print(dir_list)"
   ]
  },
  {
   "cell_type": "code",
   "execution_count": 99,
   "id": "a560afee",
   "metadata": {},
   "outputs": [
    {
     "name": "stdout",
     "output_type": "stream",
     "text": [
      "Files and directories in ' C: ' :\n",
      "['.ipynb_checkpoints', '.ipython', '.jupyter', '3D Objects', 'Anaconda3', 'AppData', 'Application Data', 'Contacts', 'Cookies', 'Desktop', 'Documents', 'Downloads', 'Favorites', 'If & While Loo.ipynb', 'Imp_Practice.ipynb', 'IntelGraphicsProfiles', 'Links', 'Local Settings', 'Loops Practice.ipynb', 'Microsoft', 'Music', 'My Documents', 'NetHood', 'NTUSER.DAT', 'ntuser.dat.LOG1', 'ntuser.dat.LOG2', 'NTUSER.DAT{d66b8097-9e88-11eb-9cdb-fe7aec6eaf50}.TM.blf', 'NTUSER.DAT{d66b8097-9e88-11eb-9cdb-fe7aec6eaf50}.TMContainer00000000000000000001.regtrans-ms', 'NTUSER.DAT{d66b8097-9e88-11eb-9cdb-fe7aec6eaf50}.TMContainer00000000000000000002.regtrans-ms', 'ntuser.ini', 'OneDrive', 'Pictures', 'Practice_Small_Cases.ipynb', 'PrintHood', 'Python Revision Class 1 to Class 6.ipynb', 'Python_Functions.ipynb', 'Recent', 'Saved Games', 'Searches', 'SendTo', 'Start Menu', 'String & List use_function .ipynb', 'Sudhanshu_20Questions.ipynb', 'Templates', 'Tracing', 'Videos']\n"
     ]
    }
   ],
   "source": [
    "test5(dir_list)"
   ]
  },
  {
   "cell_type": "code",
   "execution_count": 100,
   "id": "9219f94c",
   "metadata": {},
   "outputs": [],
   "source": [
    "#Q8. Write a function which will be able to show your system configuration . \n",
    "#--------not able to solve this"
   ]
  },
  {
   "cell_type": "code",
   "execution_count": 101,
   "id": "c642714e",
   "metadata": {},
   "outputs": [
    {
     "name": "stdout",
     "output_type": "stream",
     "text": [
      "Current date and time : \n",
      "2022-01-14 14:09:28\n"
     ]
    }
   ],
   "source": [
    "#Q9. Write a function which will be able to show date and time  . \n",
    "import datetime\n",
    "now = datetime.datetime.now()\n",
    "print (\"Current date and time : \")\n",
    "print (now.strftime(\"%Y-%m-%d %H:%M:%S\"))"
   ]
  },
  {
   "cell_type": "code",
   "execution_count": 102,
   "id": "7c407446",
   "metadata": {},
   "outputs": [],
   "source": [
    "#Q10 . write a function whihc will be able to read a image file and show it to you \n",
    "#---------not able to solve this"
   ]
  },
  {
   "cell_type": "code",
   "execution_count": null,
   "id": "fd546149",
   "metadata": {},
   "outputs": [],
   "source": [
    "#Q11 . Write a function which can read video file and play for you .\n",
    "#---------not able to solve this"
   ]
  }
 ],
 "metadata": {
  "kernelspec": {
   "display_name": "Python 3",
   "language": "python",
   "name": "python3"
  },
  "language_info": {
   "codemirror_mode": {
    "name": "ipython",
    "version": 3
   },
   "file_extension": ".py",
   "mimetype": "text/x-python",
   "name": "python",
   "nbconvert_exporter": "python",
   "pygments_lexer": "ipython3",
   "version": "3.8.8"
  }
 },
 "nbformat": 4,
 "nbformat_minor": 5
}
