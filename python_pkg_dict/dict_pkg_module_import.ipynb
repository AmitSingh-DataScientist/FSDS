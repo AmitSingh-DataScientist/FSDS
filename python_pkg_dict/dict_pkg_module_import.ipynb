{
 "cells": [
  {
   "cell_type": "code",
   "execution_count": 1,
   "id": "a9083279",
   "metadata": {},
   "outputs": [
    {
     "data": {
      "text/plain": [
       "'C:\\\\Users\\\\amit.singh\\\\MyFirstProject'"
      ]
     },
     "execution_count": 1,
     "metadata": {},
     "output_type": "execute_result"
    }
   ],
   "source": [
    "pwd()"
   ]
  },
  {
   "cell_type": "code",
   "execution_count": 2,
   "id": "6a333535",
   "metadata": {},
   "outputs": [],
   "source": [
    "from pkg_dict import dict_function"
   ]
  },
  {
   "cell_type": "code",
   "execution_count": 3,
   "id": "72bfe2e0",
   "metadata": {},
   "outputs": [],
   "source": [
    "dict=dict_function.dict_module({\"key1\":\"sudh\",\"key2\":\"ineuron\",\"key3\":\"FSDS\",\"key4\":\"amit\"})"
   ]
  },
  {
   "cell_type": "code",
   "execution_count": 4,
   "id": "dbd0f21d",
   "metadata": {},
   "outputs": [
    {
     "data": {
      "text/plain": [
       "{'key1': 'sudh', 'key2': 'ineuron', 'key3': 'FSDS', 'key4': 'amit'}"
      ]
     },
     "execution_count": 4,
     "metadata": {},
     "output_type": "execute_result"
    }
   ],
   "source": [
    "dict.d"
   ]
  },
  {
   "cell_type": "code",
   "execution_count": 5,
   "id": "e58c015d",
   "metadata": {},
   "outputs": [
    {
     "data": {
      "text/plain": [
       "dict_keys(['key1', 'key2', 'key3', 'key4'])"
      ]
     },
     "execution_count": 5,
     "metadata": {},
     "output_type": "execute_result"
    }
   ],
   "source": [
    "dict.dict_key()"
   ]
  },
  {
   "cell_type": "code",
   "execution_count": 6,
   "id": "d8cfae9a",
   "metadata": {},
   "outputs": [
    {
     "data": {
      "text/plain": [
       "dict_values(['sudh', 'ineuron', 'FSDS', 'amit'])"
      ]
     },
     "execution_count": 6,
     "metadata": {},
     "output_type": "execute_result"
    }
   ],
   "source": [
    "dict.dict_value()"
   ]
  },
  {
   "cell_type": "code",
   "execution_count": 7,
   "id": "f53be4b0",
   "metadata": {},
   "outputs": [
    {
     "name": "stdout",
     "output_type": "stream",
     "text": [
      "Enter a key to see the respective value from Dict : \"key1\"\n"
     ]
    },
    {
     "data": {
      "text/plain": [
       "'sudh'"
      ]
     },
     "execution_count": 7,
     "metadata": {},
     "output_type": "execute_result"
    }
   ],
   "source": [
    "dict.dict_get()"
   ]
  },
  {
   "cell_type": "code",
   "execution_count": 8,
   "id": "5e97b46a",
   "metadata": {},
   "outputs": [
    {
     "name": "stdout",
     "output_type": "stream",
     "text": [
      "Enter a key to update in Dict : \"key5\"\n",
      "Enter a value to update in Dict : \"singh\"\n"
     ]
    }
   ],
   "source": [
    "dict.dict_update()"
   ]
  },
  {
   "cell_type": "code",
   "execution_count": null,
   "id": "927cbaf2",
   "metadata": {},
   "outputs": [],
   "source": []
  }
 ],
 "metadata": {
  "kernelspec": {
   "display_name": "Python 3",
   "language": "python",
   "name": "python3"
  },
  "language_info": {
   "codemirror_mode": {
    "name": "ipython",
    "version": 3
   },
   "file_extension": ".py",
   "mimetype": "text/x-python",
   "name": "python",
   "nbconvert_exporter": "python",
   "pygments_lexer": "ipython3",
   "version": "3.8.8"
  }
 },
 "nbformat": 4,
 "nbformat_minor": 5
}
