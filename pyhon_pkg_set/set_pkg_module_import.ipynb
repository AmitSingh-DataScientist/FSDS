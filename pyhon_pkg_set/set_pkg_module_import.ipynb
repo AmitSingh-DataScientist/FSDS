{
 "cells": [
  {
   "cell_type": "code",
   "execution_count": 1,
   "id": "0087bf2e",
   "metadata": {},
   "outputs": [
    {
     "data": {
      "text/plain": [
       "'C:\\\\Users\\\\amit.singh\\\\MyFirstProject'"
      ]
     },
     "execution_count": 1,
     "metadata": {},
     "output_type": "execute_result"
    }
   ],
   "source": [
    "pwd()"
   ]
  },
  {
   "cell_type": "code",
   "execution_count": 2,
   "id": "c61528c3",
   "metadata": {},
   "outputs": [],
   "source": [
    "from pkg_set import set_function"
   ]
  },
  {
   "cell_type": "code",
   "execution_count": 3,
   "id": "482de7bc",
   "metadata": {},
   "outputs": [],
   "source": [
    "set1=set_function.set_module({1,3,4,6,7,8,9,19})"
   ]
  },
  {
   "cell_type": "code",
   "execution_count": 4,
   "id": "8bfd9087",
   "metadata": {},
   "outputs": [
    {
     "data": {
      "text/plain": [
       "{1, 3, 4, 6, 7, 8, 9, 19}"
      ]
     },
     "execution_count": 4,
     "metadata": {},
     "output_type": "execute_result"
    }
   ],
   "source": [
    "set1.s"
   ]
  },
  {
   "cell_type": "code",
   "execution_count": 5,
   "id": "0acd0181",
   "metadata": {},
   "outputs": [
    {
     "name": "stdout",
     "output_type": "stream",
     "text": [
      "Please enter a value to add in Set : 20\n"
     ]
    },
    {
     "data": {
      "text/plain": [
       "{1, 3, 4, 6, 7, 8, 9, 19, 20}"
      ]
     },
     "execution_count": 5,
     "metadata": {},
     "output_type": "execute_result"
    }
   ],
   "source": [
    "set1.set_add()"
   ]
  },
  {
   "cell_type": "code",
   "execution_count": 6,
   "id": "cf0e7c71",
   "metadata": {},
   "outputs": [
    {
     "name": "stdout",
     "output_type": "stream",
     "text": [
      "Please enter a value to remove from Set : 19\n"
     ]
    },
    {
     "data": {
      "text/plain": [
       "{1, 3, 4, 6, 7, 8, 9, 20}"
      ]
     },
     "execution_count": 6,
     "metadata": {},
     "output_type": "execute_result"
    }
   ],
   "source": [
    "set1.set_remove()"
   ]
  },
  {
   "cell_type": "code",
   "execution_count": 7,
   "id": "f6ee7db1",
   "metadata": {},
   "outputs": [
    {
     "name": "stdout",
     "output_type": "stream",
     "text": [
      "Please enter a value to discard from Set : 19\n"
     ]
    },
    {
     "data": {
      "text/plain": [
       "{1, 3, 4, 6, 7, 8, 9, 20}"
      ]
     },
     "execution_count": 7,
     "metadata": {},
     "output_type": "execute_result"
    }
   ],
   "source": [
    "set1.set_discard()"
   ]
  },
  {
   "cell_type": "code",
   "execution_count": null,
   "id": "ea37e386",
   "metadata": {},
   "outputs": [],
   "source": []
  }
 ],
 "metadata": {
  "kernelspec": {
   "display_name": "Python 3",
   "language": "python",
   "name": "python3"
  },
  "language_info": {
   "codemirror_mode": {
    "name": "ipython",
    "version": 3
   },
   "file_extension": ".py",
   "mimetype": "text/x-python",
   "name": "python",
   "nbconvert_exporter": "python",
   "pygments_lexer": "ipython3",
   "version": "3.8.8"
  }
 },
 "nbformat": 4,
 "nbformat_minor": 5
}
